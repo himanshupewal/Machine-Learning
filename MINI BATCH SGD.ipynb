{
 "cells": [
  {
   "cell_type": "code",
   "execution_count": 33,
   "id": "749a8bdd",
   "metadata": {},
   "outputs": [],
   "source": [
    "import pandas as pd\n",
    "import numpy as np\n",
    "from sklearn.datasets import load_diabetes\n",
    "from sklearn.model_selection import train_test_split\n",
    "from sklearn.linear_model import LinearRegression\n",
    "from sklearn.metrics import r2_score\n",
    "import time\n",
    "import random"
   ]
  },
  {
   "cell_type": "code",
   "execution_count": 2,
   "id": "03fdbde8",
   "metadata": {},
   "outputs": [],
   "source": [
    "X,y = load_diabetes(return_X_y=True)"
   ]
  },
  {
   "cell_type": "code",
   "execution_count": 3,
   "id": "3ae5d7b8",
   "metadata": {},
   "outputs": [],
   "source": [
    "X_train,X_test,y_train,y_test = train_test_split(X,y,test_size=0.2,random_state=2)"
   ]
  },
  {
   "cell_type": "code",
   "execution_count": 4,
   "id": "e084b315",
   "metadata": {},
   "outputs": [
    {
     "data": {
      "text/plain": [
       "((353, 10), (353,))"
      ]
     },
     "execution_count": 4,
     "metadata": {},
     "output_type": "execute_result"
    }
   ],
   "source": [
    "X_train.shape,y_train.shape"
   ]
  },
  {
   "cell_type": "code",
   "execution_count": 5,
   "id": "be7b232f",
   "metadata": {},
   "outputs": [],
   "source": [
    "lr = LinearRegression()"
   ]
  },
  {
   "cell_type": "code",
   "execution_count": 6,
   "id": "9eb15fd6",
   "metadata": {},
   "outputs": [
    {
     "data": {
      "text/plain": [
       "LinearRegression()"
      ]
     },
     "execution_count": 6,
     "metadata": {},
     "output_type": "execute_result"
    }
   ],
   "source": [
    "lr.fit(X_train,y_train)"
   ]
  },
  {
   "cell_type": "code",
   "execution_count": 7,
   "id": "697e0e4a",
   "metadata": {},
   "outputs": [
    {
     "data": {
      "text/plain": [
       "(array([  -9.16088483, -205.46225988,  516.68462383,  340.62734108,\n",
       "        -895.54360867,  561.21453306,  153.88478595,  126.73431596,\n",
       "         861.12139955,   52.41982836]),\n",
       " 151.88334520854633)"
      ]
     },
     "execution_count": 7,
     "metadata": {},
     "output_type": "execute_result"
    }
   ],
   "source": [
    "lr.coef_,lr.intercept_"
   ]
  },
  {
   "cell_type": "code",
   "execution_count": 20,
   "id": "0f998d4e",
   "metadata": {},
   "outputs": [],
   "source": [
    "y_pred   = lr.predict(X_test)"
   ]
  },
  {
   "cell_type": "code",
   "execution_count": 21,
   "id": "04cde016",
   "metadata": {},
   "outputs": [
    {
     "data": {
      "text/plain": [
       "0.4399387660024645"
      ]
     },
     "execution_count": 21,
     "metadata": {},
     "output_type": "execute_result"
    }
   ],
   "source": [
    "r2_score(y_test,y_pred)"
   ]
  },
  {
   "cell_type": "code",
   "execution_count": 28,
   "id": "40ca9289",
   "metadata": {},
   "outputs": [],
   "source": [
    "class MBGD:\n",
    "    \n",
    "        def __init__(self,batch_size,learning_rate=0.01,epochs=100):\n",
    "\n",
    "            self.lr=learning_rate\n",
    "            self.epochs = epochs\n",
    "            self.coef_ = None\n",
    "            self.intercept_ = None\n",
    "            self.batch_size = batch_size\n",
    "        \n",
    "        \n",
    "        def fit(self,X_train,y_train):\n",
    "\n",
    "            self.intercept_ = 0\n",
    "            self.coef_ = np.ones(X_train.shape[1])\n",
    "\n",
    "            for i in range(self.epochs):\n",
    "                for j in range(int(X_train.shape[0]/self.batch_size)): # loop for batch\n",
    "\n",
    "                    idx = random.sample(range(X_train.shape[0]),self.batch_size) \n",
    "\n",
    "\n",
    "\n",
    "                    y_hat = np.dot(X_train[idx],self.coef_) + self.intercept_ \n",
    "                    intercept_der = -2 * np.mean(y_train[idx] - y_hat)\n",
    "                    self.intercept_ = self.intercept_ - (self.lr * intercept_der )\n",
    "\n",
    "                    ## updating coef.\n",
    "                    coef_der = -2 * np.dot((y_train[idx] - y_hat),X_train[idx])\n",
    "                    self.ceof_  = self.coef_ - (self.lr * coef_der)\n",
    "            print(self.intercept_,self.ceof_)\n",
    "\n",
    "\n",
    "        def predict(self,X_test):\n",
    "\n",
    "            return np.dot(X_train,self.coef_) + self.intercept_\n",
    "\n",
    "    \n",
    "   \n",
    "    \n",
    "   "
   ]
  },
  {
   "cell_type": "code",
   "execution_count": 29,
   "id": "99f4d110",
   "metadata": {},
   "outputs": [],
   "source": [
    "mb = MBGD(batch_size=int(X_train.shape[0]/50),learning_rate=0.01,epochs=10)"
   ]
  },
  {
   "cell_type": "code",
   "execution_count": 30,
   "id": "054cd3bd",
   "metadata": {},
   "outputs": [
    {
     "name": "stdout",
     "output_type": "stream",
     "text": [
      "154.23508510377042 [1.31534479 0.97438386 1.3812279  1.5401638  1.2851308  1.30934053\n",
      " 0.85432608 1.18496113 1.26895465 1.34852977]\n"
     ]
    }
   ],
   "source": [
    "mb.fit(X_train,y_train)"
   ]
  },
  {
   "cell_type": "code",
   "execution_count": null,
   "id": "1129f0c1",
   "metadata": {},
   "outputs": [],
   "source": [
    "## MINI BATCH SG REGRESSOR SKLEARN"
   ]
  },
  {
   "cell_type": "code",
   "execution_count": 38,
   "id": "05f37d53",
   "metadata": {},
   "outputs": [],
   "source": [
    "from sklearn.linear_model import SGDRegressor"
   ]
  },
  {
   "cell_type": "code",
   "execution_count": 49,
   "id": "7e5929be",
   "metadata": {},
   "outputs": [],
   "source": [
    "sgd = SGDRegressor(learning_rate=\"constant\",eta0=0.2)"
   ]
  },
  {
   "cell_type": "code",
   "execution_count": 50,
   "id": "823e584c",
   "metadata": {},
   "outputs": [],
   "source": [
    "batch_size = 35\n",
    "\n",
    "for i in range(100):\n",
    "    \n",
    "    idx = random.sample(range(X_train.shape[0]),batch_size)\n",
    "    sgd.partial_fit(X_train[idx],y_train[idx])"
   ]
  },
  {
   "cell_type": "code",
   "execution_count": 51,
   "id": "a1186c8e",
   "metadata": {},
   "outputs": [
    {
     "data": {
      "text/plain": [
       "array([153.22227274])"
      ]
     },
     "execution_count": 51,
     "metadata": {},
     "output_type": "execute_result"
    }
   ],
   "source": [
    "sgd.intercept_"
   ]
  },
  {
   "cell_type": "code",
   "execution_count": 52,
   "id": "599e8cfc",
   "metadata": {},
   "outputs": [],
   "source": [
    "y_pred  = sgd.predict(X_test)"
   ]
  },
  {
   "cell_type": "code",
   "execution_count": 53,
   "id": "c0e46d18",
   "metadata": {},
   "outputs": [
    {
     "data": {
      "text/plain": [
       "0.4521962997824175"
      ]
     },
     "execution_count": 53,
     "metadata": {},
     "output_type": "execute_result"
    }
   ],
   "source": [
    "r2_score(y_test,y_pred)"
   ]
  },
  {
   "cell_type": "code",
   "execution_count": null,
   "id": "d6a56fa5",
   "metadata": {},
   "outputs": [],
   "source": []
  }
 ],
 "metadata": {
  "kernelspec": {
   "display_name": "Python 3 (ipykernel)",
   "language": "python",
   "name": "python3"
  },
  "language_info": {
   "codemirror_mode": {
    "name": "ipython",
    "version": 3
   },
   "file_extension": ".py",
   "mimetype": "text/x-python",
   "name": "python",
   "nbconvert_exporter": "python",
   "pygments_lexer": "ipython3",
   "version": "3.9.12"
  }
 },
 "nbformat": 4,
 "nbformat_minor": 5
}
