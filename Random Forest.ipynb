{
 "cells": [
  {
   "cell_type": "code",
   "execution_count": 64,
   "id": "4af89418",
   "metadata": {},
   "outputs": [],
   "source": [
    "from sklearn.datasets import make_classification\n",
    "import pandas as pd\n",
    "import numpy as np\n",
    "import random\n",
    "from sklearn.tree import plot_tree"
   ]
  },
  {
   "cell_type": "code",
   "execution_count": 3,
   "id": "9aab32d2",
   "metadata": {},
   "outputs": [],
   "source": [
    "X,y = make_classification(n_features=5,n_redundant=0,n_informative=5,n_clusters_per_class=1)\n"
   ]
  },
  {
   "cell_type": "code",
   "execution_count": 4,
   "id": "14086cd8",
   "metadata": {},
   "outputs": [],
   "source": [
    "df = pd.DataFrame(X,columns=['col1','col2','col3','col4','col5'])\n",
    "df['target']=y\n"
   ]
  },
  {
   "cell_type": "code",
   "execution_count": 5,
   "id": "bbee2f37",
   "metadata": {},
   "outputs": [
    {
     "data": {
      "text/plain": [
       "(100, 6)"
      ]
     },
     "execution_count": 5,
     "metadata": {},
     "output_type": "execute_result"
    }
   ],
   "source": [
    "df.shape"
   ]
  },
  {
   "cell_type": "code",
   "execution_count": 6,
   "id": "458d9e79",
   "metadata": {},
   "outputs": [
    {
     "data": {
      "text/html": [
       "<div>\n",
       "<style scoped>\n",
       "    .dataframe tbody tr th:only-of-type {\n",
       "        vertical-align: middle;\n",
       "    }\n",
       "\n",
       "    .dataframe tbody tr th {\n",
       "        vertical-align: top;\n",
       "    }\n",
       "\n",
       "    .dataframe thead th {\n",
       "        text-align: right;\n",
       "    }\n",
       "</style>\n",
       "<table border=\"1\" class=\"dataframe\">\n",
       "  <thead>\n",
       "    <tr style=\"text-align: right;\">\n",
       "      <th></th>\n",
       "      <th>col1</th>\n",
       "      <th>col2</th>\n",
       "      <th>col3</th>\n",
       "      <th>col4</th>\n",
       "      <th>col5</th>\n",
       "      <th>target</th>\n",
       "    </tr>\n",
       "  </thead>\n",
       "  <tbody>\n",
       "    <tr>\n",
       "      <th>0</th>\n",
       "      <td>1.694446</td>\n",
       "      <td>3.675971</td>\n",
       "      <td>0.091684</td>\n",
       "      <td>1.634890</td>\n",
       "      <td>-0.174105</td>\n",
       "      <td>0</td>\n",
       "    </tr>\n",
       "    <tr>\n",
       "      <th>1</th>\n",
       "      <td>0.858774</td>\n",
       "      <td>-0.755774</td>\n",
       "      <td>1.300027</td>\n",
       "      <td>-3.013457</td>\n",
       "      <td>-2.138190</td>\n",
       "      <td>0</td>\n",
       "    </tr>\n",
       "    <tr>\n",
       "      <th>2</th>\n",
       "      <td>-1.986961</td>\n",
       "      <td>-1.746305</td>\n",
       "      <td>-0.644625</td>\n",
       "      <td>3.123953</td>\n",
       "      <td>1.619837</td>\n",
       "      <td>1</td>\n",
       "    </tr>\n",
       "    <tr>\n",
       "      <th>3</th>\n",
       "      <td>-0.978991</td>\n",
       "      <td>-1.212839</td>\n",
       "      <td>0.903161</td>\n",
       "      <td>1.332155</td>\n",
       "      <td>0.914984</td>\n",
       "      <td>1</td>\n",
       "    </tr>\n",
       "    <tr>\n",
       "      <th>4</th>\n",
       "      <td>1.139440</td>\n",
       "      <td>1.290623</td>\n",
       "      <td>0.547155</td>\n",
       "      <td>-0.693208</td>\n",
       "      <td>-1.160428</td>\n",
       "      <td>0</td>\n",
       "    </tr>\n",
       "  </tbody>\n",
       "</table>\n",
       "</div>"
      ],
      "text/plain": [
       "       col1      col2      col3      col4      col5  target\n",
       "0  1.694446  3.675971  0.091684  1.634890 -0.174105       0\n",
       "1  0.858774 -0.755774  1.300027 -3.013457 -2.138190       0\n",
       "2 -1.986961 -1.746305 -0.644625  3.123953  1.619837       1\n",
       "3 -0.978991 -1.212839  0.903161  1.332155  0.914984       1\n",
       "4  1.139440  1.290623  0.547155 -0.693208 -1.160428       0"
      ]
     },
     "execution_count": 6,
     "metadata": {},
     "output_type": "execute_result"
    }
   ],
   "source": [
    "df.head()"
   ]
  },
  {
   "cell_type": "code",
   "execution_count": 31,
   "id": "7f42609a",
   "metadata": {},
   "outputs": [],
   "source": [
    "def sample_rows(df,per):\n",
    "    return df.sample(int(per*df.shape[0]),replace=True)\n",
    "\n"
   ]
  },
  {
   "cell_type": "code",
   "execution_count": 32,
   "id": "515d9247",
   "metadata": {},
   "outputs": [
    {
     "data": {
      "text/plain": [
       "['col1', 'col2', 'col3', 'col4', 'col5', 'target']"
      ]
     },
     "execution_count": 32,
     "metadata": {},
     "output_type": "execute_result"
    }
   ],
   "source": [
    "df.columns.tolist()"
   ]
  },
  {
   "cell_type": "code",
   "execution_count": 86,
   "id": "1f9212ae",
   "metadata": {},
   "outputs": [],
   "source": [
    "def sample_features(df,per):\n",
    "    cols  = random.sample(df.columns.tolist()[:-1],int(per*df.shape[1]-1))\n",
    "    new_df = df[cols]\n",
    "    new_df['target'] =df['target']\n",
    "    return new_df"
   ]
  },
  {
   "cell_type": "code",
   "execution_count": 36,
   "id": "39141aae",
   "metadata": {},
   "outputs": [],
   "source": [
    "def comb_sample(df,row_per,col_per):\n",
    "    new_df = sample_rows(df,row_per)\n",
    "    return sample_features(new_df,col_per)"
   ]
  },
  {
   "cell_type": "code",
   "execution_count": 38,
   "id": "94bcff9f",
   "metadata": {},
   "outputs": [
    {
     "data": {
      "text/html": [
       "<div>\n",
       "<style scoped>\n",
       "    .dataframe tbody tr th:only-of-type {\n",
       "        vertical-align: middle;\n",
       "    }\n",
       "\n",
       "    .dataframe tbody tr th {\n",
       "        vertical-align: top;\n",
       "    }\n",
       "\n",
       "    .dataframe thead th {\n",
       "        text-align: right;\n",
       "    }\n",
       "</style>\n",
       "<table border=\"1\" class=\"dataframe\">\n",
       "  <thead>\n",
       "    <tr style=\"text-align: right;\">\n",
       "      <th></th>\n",
       "      <th>col4</th>\n",
       "    </tr>\n",
       "  </thead>\n",
       "  <tbody>\n",
       "    <tr>\n",
       "      <th>63</th>\n",
       "      <td>1.648487</td>\n",
       "    </tr>\n",
       "    <tr>\n",
       "      <th>62</th>\n",
       "      <td>0.155684</td>\n",
       "    </tr>\n",
       "    <tr>\n",
       "      <th>72</th>\n",
       "      <td>2.330591</td>\n",
       "    </tr>\n",
       "    <tr>\n",
       "      <th>72</th>\n",
       "      <td>2.330591</td>\n",
       "    </tr>\n",
       "    <tr>\n",
       "      <th>54</th>\n",
       "      <td>-0.043711</td>\n",
       "    </tr>\n",
       "    <tr>\n",
       "      <th>88</th>\n",
       "      <td>-0.819821</td>\n",
       "    </tr>\n",
       "    <tr>\n",
       "      <th>66</th>\n",
       "      <td>-1.774824</td>\n",
       "    </tr>\n",
       "    <tr>\n",
       "      <th>94</th>\n",
       "      <td>0.745878</td>\n",
       "    </tr>\n",
       "    <tr>\n",
       "      <th>0</th>\n",
       "      <td>1.634890</td>\n",
       "    </tr>\n",
       "    <tr>\n",
       "      <th>13</th>\n",
       "      <td>-1.835419</td>\n",
       "    </tr>\n",
       "    <tr>\n",
       "      <th>93</th>\n",
       "      <td>-2.639955</td>\n",
       "    </tr>\n",
       "    <tr>\n",
       "      <th>59</th>\n",
       "      <td>0.741533</td>\n",
       "    </tr>\n",
       "    <tr>\n",
       "      <th>44</th>\n",
       "      <td>1.378926</td>\n",
       "    </tr>\n",
       "    <tr>\n",
       "      <th>15</th>\n",
       "      <td>-1.494733</td>\n",
       "    </tr>\n",
       "    <tr>\n",
       "      <th>97</th>\n",
       "      <td>1.404792</td>\n",
       "    </tr>\n",
       "    <tr>\n",
       "      <th>68</th>\n",
       "      <td>-2.578182</td>\n",
       "    </tr>\n",
       "    <tr>\n",
       "      <th>69</th>\n",
       "      <td>2.489491</td>\n",
       "    </tr>\n",
       "    <tr>\n",
       "      <th>28</th>\n",
       "      <td>-0.677064</td>\n",
       "    </tr>\n",
       "    <tr>\n",
       "      <th>96</th>\n",
       "      <td>-0.278267</td>\n",
       "    </tr>\n",
       "    <tr>\n",
       "      <th>92</th>\n",
       "      <td>0.416172</td>\n",
       "    </tr>\n",
       "  </tbody>\n",
       "</table>\n",
       "</div>"
      ],
      "text/plain": [
       "        col4\n",
       "63  1.648487\n",
       "62  0.155684\n",
       "72  2.330591\n",
       "72  2.330591\n",
       "54 -0.043711\n",
       "88 -0.819821\n",
       "66 -1.774824\n",
       "94  0.745878\n",
       "0   1.634890\n",
       "13 -1.835419\n",
       "93 -2.639955\n",
       "59  0.741533\n",
       "44  1.378926\n",
       "15 -1.494733\n",
       "97  1.404792\n",
       "68 -2.578182\n",
       "69  2.489491\n",
       "28 -0.677064\n",
       "96 -0.278267\n",
       "92  0.416172"
      ]
     },
     "execution_count": 38,
     "metadata": {},
     "output_type": "execute_result"
    }
   ],
   "source": [
    "comb_sample(df,0.2,0.2)"
   ]
  },
  {
   "cell_type": "code",
   "execution_count": 55,
   "id": "7d2b8b0c",
   "metadata": {},
   "outputs": [],
   "source": [
    "df1 = sample_rows(df,0.2)"
   ]
  },
  {
   "cell_type": "code",
   "execution_count": 56,
   "id": "b86348ca",
   "metadata": {},
   "outputs": [],
   "source": [
    "df2 = sample_rows(df,0.2)"
   ]
  },
  {
   "cell_type": "code",
   "execution_count": 57,
   "id": "e63cca9e",
   "metadata": {},
   "outputs": [],
   "source": [
    "df3 = sample_rows(df,0.2)"
   ]
  },
  {
   "cell_type": "code",
   "execution_count": 58,
   "id": "a2564244",
   "metadata": {},
   "outputs": [],
   "source": [
    "from sklearn.tree import DecisionTreeClassifier"
   ]
  },
  {
   "cell_type": "code",
   "execution_count": 59,
   "id": "4e92e177",
   "metadata": {},
   "outputs": [],
   "source": [
    "dt1 = DecisionTreeClassifier()\n",
    "dt2= DecisionTreeClassifier()\n",
    "dt3  =DecisionTreeClassifier()"
   ]
  },
  {
   "cell_type": "code",
   "execution_count": 69,
   "id": "aaf03231",
   "metadata": {},
   "outputs": [],
   "source": [
    "clf1=dt1.fit(df1.iloc[:,:5],df1.iloc[:,-1])\n",
    "clf2=dt2.fit(df2.iloc[:,:5],df2.iloc[:,-1])\n",
    "clf3=dt3.fit(df3.iloc[:,:5],df3.iloc[:,-1])"
   ]
  },
  {
   "cell_type": "code",
   "execution_count": 70,
   "id": "44e84617",
   "metadata": {},
   "outputs": [
    {
     "data": {
      "text/plain": [
       "[Text(0.5, 0.8333333333333334, 'X[4] <= -1.122\\ngini = 0.48\\nsamples = 20\\nvalue = [8, 12]'),\n",
       " Text(0.25, 0.5, 'X[1] <= -0.505\\ngini = 0.219\\nsamples = 8\\nvalue = [7, 1]'),\n",
       " Text(0.125, 0.16666666666666666, 'gini = 0.0\\nsamples = 1\\nvalue = [0, 1]'),\n",
       " Text(0.375, 0.16666666666666666, 'gini = 0.0\\nsamples = 7\\nvalue = [7, 0]'),\n",
       " Text(0.75, 0.5, 'X[1] <= 1.469\\ngini = 0.153\\nsamples = 12\\nvalue = [1, 11]'),\n",
       " Text(0.625, 0.16666666666666666, 'gini = 0.0\\nsamples = 11\\nvalue = [0, 11]'),\n",
       " Text(0.875, 0.16666666666666666, 'gini = 0.0\\nsamples = 1\\nvalue = [1, 0]')]"
      ]
     },
     "execution_count": 70,
     "metadata": {},
     "output_type": "execute_result"
    },
    {
     "data": {
      "image/png": "[encoded data removed]",
      "text/plain": [
       "<Figure size 432x288 with 1 Axes>"
      ]
     },
     "metadata": {
      "needs_background": "light"
     },
     "output_type": "display_data"
    }
   ],
   "source": [
    "plot_tree(clf1)"
   ]
  },
  {
   "cell_type": "code",
   "execution_count": 71,
   "id": "4c404501",
   "metadata": {},
   "outputs": [
    {
     "data": {
      "text/plain": [
       "[Text(0.5, 0.75, 'X[4] <= -1.595\\ngini = 0.375\\nsamples = 20\\nvalue = [5, 15]'),\n",
       " Text(0.25, 0.25, 'gini = 0.0\\nsamples = 5\\nvalue = [5, 0]'),\n",
       " Text(0.75, 0.25, 'gini = 0.0\\nsamples = 15\\nvalue = [0, 15]')]"
      ]
     },
     "execution_count": 71,
     "metadata": {},
     "output_type": "execute_result"
    },
    {
     "data": {
      "image/png": "[encoded data removed]",
      "text/plain": [
       "<Figure size 432x288 with 1 Axes>"
      ]
     },
     "metadata": {
      "needs_background": "light"
     },
     "output_type": "display_data"
    }
   ],
   "source": [
    "plot_tree(clf2)"
   ]
  },
  {
   "cell_type": "code",
   "execution_count": 72,
   "id": "a0fc5289",
   "metadata": {},
   "outputs": [
    {
     "data": {
      "text/plain": [
       "[Text(0.4, 0.8333333333333334, 'X[1] <= -0.15\\ngini = 0.495\\nsamples = 20\\nvalue = [9, 11]'),\n",
       " Text(0.2, 0.5, 'gini = 0.0\\nsamples = 10\\nvalue = [0, 10]'),\n",
       " Text(0.6, 0.5, 'X[4] <= 2.319\\ngini = 0.18\\nsamples = 10\\nvalue = [9, 1]'),\n",
       " Text(0.4, 0.16666666666666666, 'gini = 0.0\\nsamples = 9\\nvalue = [9, 0]'),\n",
       " Text(0.8, 0.16666666666666666, 'gini = 0.0\\nsamples = 1\\nvalue = [0, 1]')]"
      ]
     },
     "execution_count": 72,
     "metadata": {},
     "output_type": "execute_result"
    },
    {
     "data": {
      "image/png": "[encoded data removed]",
      "text/plain": [
       "<Figure size 432x288 with 1 Axes>"
      ]
     },
     "metadata": {
      "needs_background": "light"
     },
     "output_type": "display_data"
    }
   ],
   "source": [
    "plot_tree(clf3)"
   ]
  },
  {
   "cell_type": "code",
   "execution_count": 73,
   "id": "7b881b69",
   "metadata": {},
   "outputs": [
    {
     "name": "stderr",
     "output_type": "stream",
     "text": [
      "C:\\Users\\himan\\anaconda3\\lib\\site-packages\\sklearn\\base.py:450: UserWarning: X does not have valid feature names, but DecisionTreeClassifier was fitted with feature names\n",
      "  warnings.warn(\n"
     ]
    },
    {
     "data": {
      "text/plain": [
       "array([1])"
      ]
     },
     "execution_count": 73,
     "metadata": {},
     "output_type": "execute_result"
    }
   ],
   "source": [
    "clf1.predict(np.array(['-1.986961','-1.746305','-0.644625','3.123953','1.619837']).reshape(1,5))"
   ]
  },
  {
   "cell_type": "code",
   "execution_count": 74,
   "id": "2673bd78",
   "metadata": {},
   "outputs": [
    {
     "name": "stderr",
     "output_type": "stream",
     "text": [
      "C:\\Users\\himan\\anaconda3\\lib\\site-packages\\sklearn\\base.py:450: UserWarning: X does not have valid feature names, but DecisionTreeClassifier was fitted with feature names\n",
      "  warnings.warn(\n"
     ]
    },
    {
     "data": {
      "text/plain": [
       "array([1])"
      ]
     },
     "execution_count": 74,
     "metadata": {},
     "output_type": "execute_result"
    }
   ],
   "source": [
    "clf2.predict(np.array(['-1.986961','-1.746305','-0.644625','3.123953','1.619837']).reshape(1,5))"
   ]
  },
  {
   "cell_type": "code",
   "execution_count": 75,
   "id": "839d4371",
   "metadata": {},
   "outputs": [
    {
     "name": "stderr",
     "output_type": "stream",
     "text": [
      "C:\\Users\\himan\\anaconda3\\lib\\site-packages\\sklearn\\base.py:450: UserWarning: X does not have valid feature names, but DecisionTreeClassifier was fitted with feature names\n",
      "  warnings.warn(\n"
     ]
    },
    {
     "data": {
      "text/plain": [
       "array([1])"
      ]
     },
     "execution_count": 75,
     "metadata": {},
     "output_type": "execute_result"
    }
   ],
   "source": [
    "clf3.predict(np.array(['-1.986961','-1.746305','-0.644625','3.123953','1.619837']).reshape(1,5))"
   ]
  },
  {
   "cell_type": "code",
   "execution_count": 145,
   "id": "9aae86a3",
   "metadata": {},
   "outputs": [
    {
     "name": "stderr",
     "output_type": "stream",
     "text": [
      "C:\\Users\\himan\\AppData\\Local\\Temp\\ipykernel_15200\\1701245212.py:4: SettingWithCopyWarning: \n",
      "A value is trying to be set on a copy of a slice from a DataFrame.\n",
      "Try using .loc[row_indexer,col_indexer] = value instead\n",
      "\n",
      "See the caveats in the documentation: https://pandas.pydata.org/pandas-docs/stable/user_guide/indexing.html#returning-a-view-versus-a-copy\n",
      "  new_df['target'] =df['target']\n",
      "C:\\Users\\himan\\AppData\\Local\\Temp\\ipykernel_15200\\1701245212.py:4: SettingWithCopyWarning: \n",
      "A value is trying to be set on a copy of a slice from a DataFrame.\n",
      "Try using .loc[row_indexer,col_indexer] = value instead\n",
      "\n",
      "See the caveats in the documentation: https://pandas.pydata.org/pandas-docs/stable/user_guide/indexing.html#returning-a-view-versus-a-copy\n",
      "  new_df['target'] =df['target']\n",
      "C:\\Users\\himan\\AppData\\Local\\Temp\\ipykernel_15200\\1701245212.py:4: SettingWithCopyWarning: \n",
      "A value is trying to be set on a copy of a slice from a DataFrame.\n",
      "Try using .loc[row_indexer,col_indexer] = value instead\n",
      "\n",
      "See the caveats in the documentation: https://pandas.pydata.org/pandas-docs/stable/user_guide/indexing.html#returning-a-view-versus-a-copy\n",
      "  new_df['target'] =df['target']\n"
     ]
    },
    {
     "data": {
      "text/plain": [
       "(100, 5)"
      ]
     },
     "execution_count": 145,
     "metadata": {},
     "output_type": "execute_result"
    }
   ],
   "source": [
    "df1 = sample_features(df,0.9)\n",
    "df2 = sample_features(df,0.9)\n",
    "df3 = sample_features(df,0.9)\n",
    "df3.shape"
   ]
  },
  {
   "cell_type": "code",
   "execution_count": 146,
   "id": "cdb06747",
   "metadata": {},
   "outputs": [],
   "source": [
    "dt1 = DecisionTreeClassifier()\n",
    "dt2= DecisionTreeClassifier()\n",
    "dt3  =DecisionTreeClassifier()"
   ]
  },
  {
   "cell_type": "code",
   "execution_count": 147,
   "id": "d3cf608e",
   "metadata": {},
   "outputs": [],
   "source": [
    "clf1=dt1.fit(df1.iloc[:,:4],df1.iloc[:,-1])\n",
    "clf2=dt2.fit(df2.iloc[:,:4],df2.iloc[:,-1])\n",
    "clf3=dt3.fit(df3.iloc[:,:4],df3.iloc[:,-1])\n"
   ]
  },
  {
   "cell_type": "code",
   "execution_count": 148,
   "id": "060a5567",
   "metadata": {},
   "outputs": [
    {
     "name": "stdout",
     "output_type": "stream",
     "text": [
      "Index(['col1', 'col5', 'col2', 'col3', 'target'], dtype='object')\n",
      "Index(['col2', 'col5', 'col3', 'col1', 'target'], dtype='object')\n",
      "Index(['col4', 'col2', 'col5', 'col1', 'target'], dtype='object')\n"
     ]
    }
   ],
   "source": [
    "print(df1.columns)\n",
    "print(df2.columns)\n",
    "print(df3.columns)"
   ]
  },
  {
   "cell_type": "code",
   "execution_count": 149,
   "id": "883cfbb4",
   "metadata": {},
   "outputs": [
    {
     "data": {
      "text/plain": [
       "[Text(0.475, 0.9166666666666666, 'X[2] <= -0.033\\ngini = 0.5\\nsamples = 100\\nvalue = [49, 51]'),\n",
       " Text(0.2, 0.75, 'X[0] <= 0.073\\ngini = 0.282\\nsamples = 47\\nvalue = [8, 39]'),\n",
       " Text(0.1, 0.5833333333333334, 'X[0] <= -0.377\\ngini = 0.051\\nsamples = 38\\nvalue = [1, 37]'),\n",
       " Text(0.05, 0.4166666666666667, 'gini = 0.0\\nsamples = 34\\nvalue = [0, 34]'),\n",
       " Text(0.15, 0.4166666666666667, 'X[0] <= -0.313\\ngini = 0.375\\nsamples = 4\\nvalue = [1, 3]'),\n",
       " Text(0.1, 0.25, 'gini = 0.0\\nsamples = 1\\nvalue = [1, 0]'),\n",
       " Text(0.2, 0.25, 'gini = 0.0\\nsamples = 3\\nvalue = [0, 3]'),\n",
       " Text(0.3, 0.5833333333333334, 'X[3] <= 1.99\\ngini = 0.346\\nsamples = 9\\nvalue = [7, 2]'),\n",
       " Text(0.25, 0.4166666666666667, 'gini = 0.0\\nsamples = 6\\nvalue = [6, 0]'),\n",
       " Text(0.35, 0.4166666666666667, 'X[0] <= 0.325\\ngini = 0.444\\nsamples = 3\\nvalue = [1, 2]'),\n",
       " Text(0.3, 0.25, 'gini = 0.0\\nsamples = 1\\nvalue = [1, 0]'),\n",
       " Text(0.4, 0.25, 'gini = 0.0\\nsamples = 2\\nvalue = [0, 2]'),\n",
       " Text(0.75, 0.75, 'X[1] <= 0.956\\ngini = 0.35\\nsamples = 53\\nvalue = [41, 12]'),\n",
       " Text(0.6, 0.5833333333333334, 'X[3] <= 2.987\\ngini = 0.149\\nsamples = 37\\nvalue = [34, 3]'),\n",
       " Text(0.55, 0.4166666666666667, 'X[0] <= 2.629\\ngini = 0.056\\nsamples = 35\\nvalue = [34, 1]'),\n",
       " Text(0.5, 0.25, 'gini = 0.0\\nsamples = 33\\nvalue = [33, 0]'),\n",
       " Text(0.6, 0.25, 'X[1] <= -0.223\\ngini = 0.5\\nsamples = 2\\nvalue = [1, 1]'),\n",
       " Text(0.55, 0.08333333333333333, 'gini = 0.0\\nsamples = 1\\nvalue = [0, 1]'),\n",
       " Text(0.65, 0.08333333333333333, 'gini = 0.0\\nsamples = 1\\nvalue = [1, 0]'),\n",
       " Text(0.65, 0.4166666666666667, 'gini = 0.0\\nsamples = 2\\nvalue = [0, 2]'),\n",
       " Text(0.9, 0.5833333333333334, 'X[0] <= 1.708\\ngini = 0.492\\nsamples = 16\\nvalue = [7, 9]'),\n",
       " Text(0.85, 0.4166666666666667, 'X[3] <= 1.175\\ngini = 0.298\\nsamples = 11\\nvalue = [2, 9]'),\n",
       " Text(0.8, 0.25, 'X[0] <= 0.151\\ngini = 0.5\\nsamples = 4\\nvalue = [2, 2]'),\n",
       " Text(0.75, 0.08333333333333333, 'gini = 0.0\\nsamples = 2\\nvalue = [0, 2]'),\n",
       " Text(0.85, 0.08333333333333333, 'gini = 0.0\\nsamples = 2\\nvalue = [2, 0]'),\n",
       " Text(0.9, 0.25, 'gini = 0.0\\nsamples = 7\\nvalue = [0, 7]'),\n",
       " Text(0.95, 0.4166666666666667, 'gini = 0.0\\nsamples = 5\\nvalue = [5, 0]')]"
      ]
     },
     "execution_count": 149,
     "metadata": {},
     "output_type": "execute_result"
    },
    {
     "data": {
      "image/png": "[encoded data removed]",
      "text/plain": [
       "<Figure size 432x288 with 1 Axes>"
      ]
     },
     "metadata": {
      "needs_background": "light"
     },
     "output_type": "display_data"
    }
   ],
   "source": [
    "plot_tree(clf1)"
   ]
  },
  {
   "cell_type": "code",
   "execution_count": 150,
   "id": "386a6a63",
   "metadata": {},
   "outputs": [
    {
     "data": {
      "text/plain": [
       "[Text(0.475, 0.9166666666666666, 'X[0] <= -0.033\\ngini = 0.5\\nsamples = 100\\nvalue = [49, 51]'),\n",
       " Text(0.2, 0.75, 'X[3] <= 0.073\\ngini = 0.282\\nsamples = 47\\nvalue = [8, 39]'),\n",
       " Text(0.1, 0.5833333333333334, 'X[3] <= -0.377\\ngini = 0.051\\nsamples = 38\\nvalue = [1, 37]'),\n",
       " Text(0.05, 0.4166666666666667, 'gini = 0.0\\nsamples = 34\\nvalue = [0, 34]'),\n",
       " Text(0.15, 0.4166666666666667, 'X[3] <= -0.313\\ngini = 0.375\\nsamples = 4\\nvalue = [1, 3]'),\n",
       " Text(0.1, 0.25, 'gini = 0.0\\nsamples = 1\\nvalue = [1, 0]'),\n",
       " Text(0.2, 0.25, 'gini = 0.0\\nsamples = 3\\nvalue = [0, 3]'),\n",
       " Text(0.3, 0.5833333333333334, 'X[2] <= 1.99\\ngini = 0.346\\nsamples = 9\\nvalue = [7, 2]'),\n",
       " Text(0.25, 0.4166666666666667, 'gini = 0.0\\nsamples = 6\\nvalue = [6, 0]'),\n",
       " Text(0.35, 0.4166666666666667, 'X[3] <= 0.325\\ngini = 0.444\\nsamples = 3\\nvalue = [1, 2]'),\n",
       " Text(0.3, 0.25, 'gini = 0.0\\nsamples = 1\\nvalue = [1, 0]'),\n",
       " Text(0.4, 0.25, 'gini = 0.0\\nsamples = 2\\nvalue = [0, 2]'),\n",
       " Text(0.75, 0.75, 'X[1] <= 0.956\\ngini = 0.35\\nsamples = 53\\nvalue = [41, 12]'),\n",
       " Text(0.6, 0.5833333333333334, 'X[2] <= 2.987\\ngini = 0.149\\nsamples = 37\\nvalue = [34, 3]'),\n",
       " Text(0.55, 0.4166666666666667, 'X[3] <= 2.629\\ngini = 0.056\\nsamples = 35\\nvalue = [34, 1]'),\n",
       " Text(0.5, 0.25, 'gini = 0.0\\nsamples = 33\\nvalue = [33, 0]'),\n",
       " Text(0.6, 0.25, 'X[1] <= -0.223\\ngini = 0.5\\nsamples = 2\\nvalue = [1, 1]'),\n",
       " Text(0.55, 0.08333333333333333, 'gini = 0.0\\nsamples = 1\\nvalue = [0, 1]'),\n",
       " Text(0.65, 0.08333333333333333, 'gini = 0.0\\nsamples = 1\\nvalue = [1, 0]'),\n",
       " Text(0.65, 0.4166666666666667, 'gini = 0.0\\nsamples = 2\\nvalue = [0, 2]'),\n",
       " Text(0.9, 0.5833333333333334, 'X[3] <= 1.708\\ngini = 0.492\\nsamples = 16\\nvalue = [7, 9]'),\n",
       " Text(0.85, 0.4166666666666667, 'X[2] <= 1.175\\ngini = 0.298\\nsamples = 11\\nvalue = [2, 9]'),\n",
       " Text(0.8, 0.25, 'X[1] <= 1.763\\ngini = 0.5\\nsamples = 4\\nvalue = [2, 2]'),\n",
       " Text(0.75, 0.08333333333333333, 'gini = 0.0\\nsamples = 2\\nvalue = [2, 0]'),\n",
       " Text(0.85, 0.08333333333333333, 'gini = 0.0\\nsamples = 2\\nvalue = [0, 2]'),\n",
       " Text(0.9, 0.25, 'gini = 0.0\\nsamples = 7\\nvalue = [0, 7]'),\n",
       " Text(0.95, 0.4166666666666667, 'gini = 0.0\\nsamples = 5\\nvalue = [5, 0]')]"
      ]
     },
     "execution_count": 150,
     "metadata": {},
     "output_type": "execute_result"
    },
    {
     "data": {
      "image/png": "[encoded data removed]",
      "text/plain": [
       "<Figure size 432x288 with 1 Axes>"
      ]
     },
     "metadata": {
      "needs_background": "light"
     },
     "output_type": "display_data"
    }
   ],
   "source": [
    "plot_tree(clf2)"
   ]
  },
  {
   "cell_type": "code",
   "execution_count": 151,
   "id": "ecfd8f9b",
   "metadata": {},
   "outputs": [
    {
     "data": {
      "text/plain": [
       "[Text(0.671875, 0.9285714285714286, 'X[0] <= 0.547\\ngini = 0.5\\nsamples = 100\\nvalue = [49, 51]'),\n",
       " Text(0.46875, 0.7857142857142857, 'X[2] <= -0.121\\ngini = 0.398\\nsamples = 62\\nvalue = [45, 17]'),\n",
       " Text(0.25, 0.6428571428571429, 'X[1] <= -0.885\\ngini = 0.229\\nsamples = 38\\nvalue = [33, 5]'),\n",
       " Text(0.125, 0.5, 'X[0] <= -1.812\\ngini = 0.375\\nsamples = 4\\nvalue = [1, 3]'),\n",
       " Text(0.0625, 0.35714285714285715, 'gini = 0.0\\nsamples = 1\\nvalue = [1, 0]'),\n",
       " Text(0.1875, 0.35714285714285715, 'gini = 0.0\\nsamples = 3\\nvalue = [0, 3]'),\n",
       " Text(0.375, 0.5, 'X[3] <= 2.629\\ngini = 0.111\\nsamples = 34\\nvalue = [32, 2]'),\n",
       " Text(0.3125, 0.35714285714285715, 'X[0] <= -2.666\\ngini = 0.059\\nsamples = 33\\nvalue = [32, 1]'),\n",
       " Text(0.25, 0.21428571428571427, 'X[0] <= -2.724\\ngini = 0.32\\nsamples = 5\\nvalue = [4, 1]'),\n",
       " Text(0.1875, 0.07142857142857142, 'gini = 0.0\\nsamples = 4\\nvalue = [4, 0]'),\n",
       " Text(0.3125, 0.07142857142857142, 'gini = 0.0\\nsamples = 1\\nvalue = [0, 1]'),\n",
       " Text(0.375, 0.21428571428571427, 'gini = 0.0\\nsamples = 28\\nvalue = [28, 0]'),\n",
       " Text(0.4375, 0.35714285714285715, 'gini = 0.0\\nsamples = 1\\nvalue = [0, 1]'),\n",
       " Text(0.6875, 0.6428571428571429, 'X[3] <= 1.708\\ngini = 0.5\\nsamples = 24\\nvalue = [12, 12]'),\n",
       " Text(0.625, 0.5, 'X[0] <= -1.3\\ngini = 0.415\\nsamples = 17\\nvalue = [5, 12]'),\n",
       " Text(0.5625, 0.35714285714285715, 'X[0] <= -2.509\\ngini = 0.278\\nsamples = 6\\nvalue = [5, 1]'),\n",
       " Text(0.5, 0.21428571428571427, 'gini = 0.0\\nsamples = 1\\nvalue = [0, 1]'),\n",
       " Text(0.625, 0.21428571428571427, 'gini = 0.0\\nsamples = 5\\nvalue = [5, 0]'),\n",
       " Text(0.6875, 0.35714285714285715, 'gini = 0.0\\nsamples = 11\\nvalue = [0, 11]'),\n",
       " Text(0.75, 0.5, 'gini = 0.0\\nsamples = 7\\nvalue = [7, 0]'),\n",
       " Text(0.875, 0.7857142857142857, 'X[3] <= 0.438\\ngini = 0.188\\nsamples = 38\\nvalue = [4, 34]'),\n",
       " Text(0.8125, 0.6428571428571429, 'gini = 0.0\\nsamples = 34\\nvalue = [0, 34]'),\n",
       " Text(0.9375, 0.6428571428571429, 'gini = 0.0\\nsamples = 4\\nvalue = [4, 0]')]"
      ]
     },
     "execution_count": 151,
     "metadata": {},
     "output_type": "execute_result"
    },
    {
     "data": {
      "image/png": "[encoded data removed]",
      "text/plain": [
       "<Figure size 432x288 with 1 Axes>"
      ]
     },
     "metadata": {
      "needs_background": "light"
     },
     "output_type": "display_data"
    }
   ],
   "source": [
    "plot_tree(clf3)"
   ]
  },
  {
   "cell_type": "code",
   "execution_count": 152,
   "id": "0cab36b3",
   "metadata": {},
   "outputs": [
    {
     "data": {
      "text/html": [
       "<div>\n",
       "<style scoped>\n",
       "    .dataframe tbody tr th:only-of-type {\n",
       "        vertical-align: middle;\n",
       "    }\n",
       "\n",
       "    .dataframe tbody tr th {\n",
       "        vertical-align: top;\n",
       "    }\n",
       "\n",
       "    .dataframe thead th {\n",
       "        text-align: right;\n",
       "    }\n",
       "</style>\n",
       "<table border=\"1\" class=\"dataframe\">\n",
       "  <thead>\n",
       "    <tr style=\"text-align: right;\">\n",
       "      <th></th>\n",
       "      <th>col4</th>\n",
       "      <th>col2</th>\n",
       "      <th>col5</th>\n",
       "      <th>col1</th>\n",
       "      <th>target</th>\n",
       "    </tr>\n",
       "  </thead>\n",
       "  <tbody>\n",
       "    <tr>\n",
       "      <th>0</th>\n",
       "      <td>1.634890</td>\n",
       "      <td>3.675971</td>\n",
       "      <td>-0.174105</td>\n",
       "      <td>1.694446</td>\n",
       "      <td>0</td>\n",
       "    </tr>\n",
       "    <tr>\n",
       "      <th>1</th>\n",
       "      <td>-3.013457</td>\n",
       "      <td>-0.755774</td>\n",
       "      <td>-2.138190</td>\n",
       "      <td>0.858774</td>\n",
       "      <td>0</td>\n",
       "    </tr>\n",
       "    <tr>\n",
       "      <th>2</th>\n",
       "      <td>3.123953</td>\n",
       "      <td>-1.746305</td>\n",
       "      <td>1.619837</td>\n",
       "      <td>-1.986961</td>\n",
       "      <td>1</td>\n",
       "    </tr>\n",
       "    <tr>\n",
       "      <th>3</th>\n",
       "      <td>1.332155</td>\n",
       "      <td>-1.212839</td>\n",
       "      <td>0.914984</td>\n",
       "      <td>-0.978991</td>\n",
       "      <td>1</td>\n",
       "    </tr>\n",
       "    <tr>\n",
       "      <th>4</th>\n",
       "      <td>-0.693208</td>\n",
       "      <td>1.290623</td>\n",
       "      <td>-1.160428</td>\n",
       "      <td>1.139440</td>\n",
       "      <td>0</td>\n",
       "    </tr>\n",
       "    <tr>\n",
       "      <th>...</th>\n",
       "      <td>...</td>\n",
       "      <td>...</td>\n",
       "      <td>...</td>\n",
       "      <td>...</td>\n",
       "      <td>...</td>\n",
       "    </tr>\n",
       "    <tr>\n",
       "      <th>95</th>\n",
       "      <td>-0.646564</td>\n",
       "      <td>1.980188</td>\n",
       "      <td>-1.383759</td>\n",
       "      <td>1.562750</td>\n",
       "      <td>0</td>\n",
       "    </tr>\n",
       "    <tr>\n",
       "      <th>96</th>\n",
       "      <td>-0.278267</td>\n",
       "      <td>0.189978</td>\n",
       "      <td>1.591288</td>\n",
       "      <td>-1.031304</td>\n",
       "      <td>1</td>\n",
       "    </tr>\n",
       "    <tr>\n",
       "      <th>97</th>\n",
       "      <td>1.404792</td>\n",
       "      <td>-3.055733</td>\n",
       "      <td>-0.040600</td>\n",
       "      <td>-1.778564</td>\n",
       "      <td>1</td>\n",
       "    </tr>\n",
       "    <tr>\n",
       "      <th>98</th>\n",
       "      <td>-2.792736</td>\n",
       "      <td>0.873016</td>\n",
       "      <td>-1.520227</td>\n",
       "      <td>-0.659864</td>\n",
       "      <td>0</td>\n",
       "    </tr>\n",
       "    <tr>\n",
       "      <th>99</th>\n",
       "      <td>-0.580737</td>\n",
       "      <td>0.713413</td>\n",
       "      <td>1.764500</td>\n",
       "      <td>0.586050</td>\n",
       "      <td>1</td>\n",
       "    </tr>\n",
       "  </tbody>\n",
       "</table>\n",
       "<p>100 rows × 5 columns</p>\n",
       "</div>"
      ],
      "text/plain": [
       "        col4      col2      col5      col1  target\n",
       "0   1.634890  3.675971 -0.174105  1.694446       0\n",
       "1  -3.013457 -0.755774 -2.138190  0.858774       0\n",
       "2   3.123953 -1.746305  1.619837 -1.986961       1\n",
       "3   1.332155 -1.212839  0.914984 -0.978991       1\n",
       "4  -0.693208  1.290623 -1.160428  1.139440       0\n",
       "..       ...       ...       ...       ...     ...\n",
       "95 -0.646564  1.980188 -1.383759  1.562750       0\n",
       "96 -0.278267  0.189978  1.591288 -1.031304       1\n",
       "97  1.404792 -3.055733 -0.040600 -1.778564       1\n",
       "98 -2.792736  0.873016 -1.520227 -0.659864       0\n",
       "99 -0.580737  0.713413  1.764500  0.586050       1\n",
       "\n",
       "[100 rows x 5 columns]"
      ]
     },
     "execution_count": 152,
     "metadata": {},
     "output_type": "execute_result"
    }
   ],
   "source": [
    "df3"
   ]
  },
  {
   "cell_type": "code",
   "execution_count": 155,
   "id": "dac4e76a",
   "metadata": {},
   "outputs": [
    {
     "name": "stderr",
     "output_type": "stream",
     "text": [
      "C:\\Users\\himan\\anaconda3\\lib\\site-packages\\sklearn\\base.py:450: UserWarning: X does not have valid feature names, but DecisionTreeClassifier was fitted with feature names\n",
      "  warnings.warn(\n"
     ]
    },
    {
     "data": {
      "text/plain": [
       "array([1])"
      ]
     },
     "execution_count": 155,
     "metadata": {},
     "output_type": "execute_result"
    }
   ],
   "source": [
    "clf1.predict(np.array(['-3.013457','-0.755774','-2.138190','0.858774']).reshape(1,4))"
   ]
  },
  {
   "cell_type": "code",
   "execution_count": 156,
   "id": "303b805e",
   "metadata": {},
   "outputs": [
    {
     "name": "stderr",
     "output_type": "stream",
     "text": [
      "C:\\Users\\himan\\anaconda3\\lib\\site-packages\\sklearn\\base.py:450: UserWarning: X does not have valid feature names, but DecisionTreeClassifier was fitted with feature names\n",
      "  warnings.warn(\n"
     ]
    },
    {
     "data": {
      "text/plain": [
       "array([0])"
      ]
     },
     "execution_count": 156,
     "metadata": {},
     "output_type": "execute_result"
    }
   ],
   "source": [
    "clf2.predict(np.array(['-3.013457','-0.755774','-2.138190','0.858774']).reshape(1,4))"
   ]
  },
  {
   "cell_type": "code",
   "execution_count": 157,
   "id": "7ca5a59d",
   "metadata": {},
   "outputs": [
    {
     "name": "stderr",
     "output_type": "stream",
     "text": [
      "C:\\Users\\himan\\anaconda3\\lib\\site-packages\\sklearn\\base.py:450: UserWarning: X does not have valid feature names, but DecisionTreeClassifier was fitted with feature names\n",
      "  warnings.warn(\n"
     ]
    },
    {
     "data": {
      "text/plain": [
       "array([0])"
      ]
     },
     "execution_count": 157,
     "metadata": {},
     "output_type": "execute_result"
    }
   ],
   "source": [
    "clf3.predict(np.array(['-3.013457','-0.755774','-2.138190','0.858774']).reshape(1,4))"
   ]
  },
  {
   "cell_type": "code",
   "execution_count": 158,
   "id": "27489ae1",
   "metadata": {},
   "outputs": [],
   "source": [
    "def comb_sample(df,row_per,col_per):\n",
    "    new_df = sample_rows(df,row_per)\n",
    "    return sample_features(new_df,col_per)"
   ]
  },
  {
   "cell_type": "code",
   "execution_count": 161,
   "id": "8b86a13c",
   "metadata": {},
   "outputs": [
    {
     "name": "stderr",
     "output_type": "stream",
     "text": [
      "C:\\Users\\himan\\AppData\\Local\\Temp\\ipykernel_15200\\1701245212.py:4: SettingWithCopyWarning: \n",
      "A value is trying to be set on a copy of a slice from a DataFrame.\n",
      "Try using .loc[row_indexer,col_indexer] = value instead\n",
      "\n",
      "See the caveats in the documentation: https://pandas.pydata.org/pandas-docs/stable/user_guide/indexing.html#returning-a-view-versus-a-copy\n",
      "  new_df['target'] =df['target']\n",
      "C:\\Users\\himan\\AppData\\Local\\Temp\\ipykernel_15200\\1701245212.py:4: SettingWithCopyWarning: \n",
      "A value is trying to be set on a copy of a slice from a DataFrame.\n",
      "Try using .loc[row_indexer,col_indexer] = value instead\n",
      "\n",
      "See the caveats in the documentation: https://pandas.pydata.org/pandas-docs/stable/user_guide/indexing.html#returning-a-view-versus-a-copy\n",
      "  new_df['target'] =df['target']\n",
      "C:\\Users\\himan\\AppData\\Local\\Temp\\ipykernel_15200\\1701245212.py:4: SettingWithCopyWarning: \n",
      "A value is trying to be set on a copy of a slice from a DataFrame.\n",
      "Try using .loc[row_indexer,col_indexer] = value instead\n",
      "\n",
      "See the caveats in the documentation: https://pandas.pydata.org/pandas-docs/stable/user_guide/indexing.html#returning-a-view-versus-a-copy\n",
      "  new_df['target'] =df['target']\n"
     ]
    }
   ],
   "source": [
    "df1 = comb_sample(df,0.5,0.9)\n",
    "df2 = comb_sample(df,0.5,0.9)\n",
    "df3 = comb_sample(df,0.5,0.9)"
   ]
  },
  {
   "cell_type": "code",
   "execution_count": 162,
   "id": "d3682915",
   "metadata": {},
   "outputs": [
    {
     "data": {
      "text/plain": [
       "(50, 5)"
      ]
     },
     "execution_count": 162,
     "metadata": {},
     "output_type": "execute_result"
    }
   ],
   "source": [
    "df1.shape"
   ]
  },
  {
   "cell_type": "code",
   "execution_count": 163,
   "id": "180fbce3",
   "metadata": {},
   "outputs": [],
   "source": [
    "dt1 = DecisionTreeClassifier()\n",
    "dt2= DecisionTreeClassifier()\n",
    "dt3  =DecisionTreeClassifier()"
   ]
  },
  {
   "cell_type": "code",
   "execution_count": 164,
   "id": "f4de5d0e",
   "metadata": {},
   "outputs": [],
   "source": [
    "clf1=dt1.fit(df1.iloc[:,:4],df1.iloc[:,-1])\n",
    "clf2=dt2.fit(df2.iloc[:,:4],df2.iloc[:,-1])\n",
    "clf3=dt3.fit(df3.iloc[:,:4],df3.iloc[:,-1])\n"
   ]
  },
  {
   "cell_type": "code",
   "execution_count": 167,
   "id": "5baede7f",
   "metadata": {},
   "outputs": [
    {
     "data": {
      "text/plain": [
       "[Text(0.34615384615384615, 0.9166666666666666, 'X[0] <= -1.898\\ngini = 0.497\\nsamples = 50\\nvalue = [23, 27]'),\n",
       " Text(0.15384615384615385, 0.75, 'X[1] <= -1.533\\ngini = 0.124\\nsamples = 15\\nvalue = [14, 1]'),\n",
       " Text(0.07692307692307693, 0.5833333333333334, 'gini = 0.0\\nsamples = 1\\nvalue = [0, 1]'),\n",
       " Text(0.23076923076923078, 0.5833333333333334, 'gini = 0.0\\nsamples = 14\\nvalue = [14, 0]'),\n",
       " Text(0.5384615384615384, 0.75, 'X[3] <= -0.377\\ngini = 0.382\\nsamples = 35\\nvalue = [9, 26]'),\n",
       " Text(0.38461538461538464, 0.5833333333333334, 'X[0] <= -1.003\\ngini = 0.1\\nsamples = 19\\nvalue = [1, 18]'),\n",
       " Text(0.3076923076923077, 0.4166666666666667, 'X[1] <= -1.911\\ngini = 0.5\\nsamples = 2\\nvalue = [1, 1]'),\n",
       " Text(0.23076923076923078, 0.25, 'gini = 0.0\\nsamples = 1\\nvalue = [0, 1]'),\n",
       " Text(0.38461538461538464, 0.25, 'gini = 0.0\\nsamples = 1\\nvalue = [1, 0]'),\n",
       " Text(0.46153846153846156, 0.4166666666666667, 'gini = 0.0\\nsamples = 17\\nvalue = [0, 17]'),\n",
       " Text(0.6923076923076923, 0.5833333333333334, 'X[0] <= -0.953\\ngini = 0.5\\nsamples = 16\\nvalue = [8, 8]'),\n",
       " Text(0.6153846153846154, 0.4166666666666667, 'gini = 0.0\\nsamples = 4\\nvalue = [0, 4]'),\n",
       " Text(0.7692307692307693, 0.4166666666666667, 'X[0] <= 0.773\\ngini = 0.444\\nsamples = 12\\nvalue = [8, 4]'),\n",
       " Text(0.6923076923076923, 0.25, 'gini = 0.0\\nsamples = 5\\nvalue = [5, 0]'),\n",
       " Text(0.8461538461538461, 0.25, 'X[1] <= 0.92\\ngini = 0.49\\nsamples = 7\\nvalue = [3, 4]'),\n",
       " Text(0.7692307692307693, 0.08333333333333333, 'gini = 0.0\\nsamples = 4\\nvalue = [0, 4]'),\n",
       " Text(0.9230769230769231, 0.08333333333333333, 'gini = 0.0\\nsamples = 3\\nvalue = [3, 0]')]"
      ]
     },
     "execution_count": 167,
     "metadata": {},
     "output_type": "execute_result"
    },
    {
     "data": {
      "image/png": "[encoded data removed]",
      "text/plain": [
       "<Figure size 432x288 with 1 Axes>"
      ]
     },
     "metadata": {
      "needs_background": "light"
     },
     "output_type": "display_data"
    }
   ],
   "source": [
    "plot_tree(clf1)"
   ]
  },
  {
   "cell_type": "code",
   "execution_count": 174,
   "id": "30a99ca6",
   "metadata": {
    "scrolled": false
   },
   "outputs": [
    {
     "data": {
      "text/plain": [
       "[Text(0.6333333333333333, 0.9166666666666666, 'X[3] <= 0.324\\ngini = 0.497\\nsamples = 50\\nvalue = [27, 23]'),\n",
       " Text(0.4, 0.75, 'X[0] <= 0.956\\ngini = 0.342\\nsamples = 32\\nvalue = [25, 7]'),\n",
       " Text(0.13333333333333333, 0.5833333333333334, 'X[1] <= -1.468\\ngini = 0.153\\nsamples = 24\\nvalue = [22, 2]'),\n",
       " Text(0.06666666666666667, 0.4166666666666667, 'gini = 0.0\\nsamples = 1\\nvalue = [0, 1]'),\n",
       " Text(0.2, 0.4166666666666667, 'X[2] <= 1.437\\ngini = 0.083\\nsamples = 23\\nvalue = [22, 1]'),\n",
       " Text(0.13333333333333333, 0.25, 'gini = 0.0\\nsamples = 20\\nvalue = [20, 0]'),\n",
       " Text(0.26666666666666666, 0.25, 'X[2] <= 1.952\\ngini = 0.444\\nsamples = 3\\nvalue = [2, 1]'),\n",
       " Text(0.2, 0.08333333333333333, 'gini = 0.0\\nsamples = 1\\nvalue = [0, 1]'),\n",
       " Text(0.3333333333333333, 0.08333333333333333, 'gini = 0.0\\nsamples = 2\\nvalue = [2, 0]'),\n",
       " Text(0.6666666666666666, 0.5833333333333334, 'X[2] <= 1.753\\ngini = 0.469\\nsamples = 8\\nvalue = [3, 5]'),\n",
       " Text(0.6, 0.4166666666666667, 'X[1] <= 0.721\\ngini = 0.278\\nsamples = 6\\nvalue = [1, 5]'),\n",
       " Text(0.5333333333333333, 0.25, 'X[3] <= -1.359\\ngini = 0.5\\nsamples = 2\\nvalue = [1, 1]'),\n",
       " Text(0.4666666666666667, 0.08333333333333333, 'gini = 0.0\\nsamples = 1\\nvalue = [1, 0]'),\n",
       " Text(0.6, 0.08333333333333333, 'gini = 0.0\\nsamples = 1\\nvalue = [0, 1]'),\n",
       " Text(0.6666666666666666, 0.25, 'gini = 0.0\\nsamples = 4\\nvalue = [0, 4]'),\n",
       " Text(0.7333333333333333, 0.4166666666666667, 'gini = 0.0\\nsamples = 2\\nvalue = [2, 0]'),\n",
       " Text(0.8666666666666667, 0.75, 'X[2] <= 0.897\\ngini = 0.198\\nsamples = 18\\nvalue = [2, 16]'),\n",
       " Text(0.8, 0.5833333333333334, 'gini = 0.0\\nsamples = 16\\nvalue = [0, 16]'),\n",
       " Text(0.9333333333333333, 0.5833333333333334, 'gini = 0.0\\nsamples = 2\\nvalue = [2, 0]')]"
      ]
     },
     "execution_count": 174,
     "metadata": {},
     "output_type": "execute_result"
    },
    {
     "data": {
      "image/png": "[encoded data removed]",
      "text/plain": [
       "<Figure size 432x288 with 1 Axes>"
      ]
     },
     "metadata": {
      "needs_background": "light"
     },
     "output_type": "display_data"
    }
   ],
   "source": [
    "plot_tree(clf2)"
   ]
  },
  {
   "cell_type": "code",
   "execution_count": 169,
   "id": "f8e20596",
   "metadata": {
    "scrolled": true
   },
   "outputs": [
    {
     "data": {
      "text/plain": [
       "[Text(0.6666666666666666, 0.875, 'X[1] <= 0.59\\ngini = 0.487\\nsamples = 50\\nvalue = [29, 21]'),\n",
       " Text(0.5, 0.625, 'X[0] <= -0.904\\ngini = 0.269\\nsamples = 25\\nvalue = [4, 21]'),\n",
       " Text(0.3333333333333333, 0.375, 'X[2] <= -1.212\\ngini = 0.32\\nsamples = 5\\nvalue = [4, 1]'),\n",
       " Text(0.16666666666666666, 0.125, 'gini = 0.0\\nsamples = 1\\nvalue = [0, 1]'),\n",
       " Text(0.5, 0.125, 'gini = 0.0\\nsamples = 4\\nvalue = [4, 0]'),\n",
       " Text(0.6666666666666666, 0.375, 'gini = 0.0\\nsamples = 20\\nvalue = [0, 20]'),\n",
       " Text(0.8333333333333334, 0.625, 'gini = 0.0\\nsamples = 25\\nvalue = [25, 0]')]"
      ]
     },
     "execution_count": 169,
     "metadata": {},
     "output_type": "execute_result"
    },
    {
     "data": {
      "image/png": "[encoded data removed]",
      "text/plain": [
       "<Figure size 432x288 with 1 Axes>"
      ]
     },
     "metadata": {
      "needs_background": "light"
     },
     "output_type": "display_data"
    }
   ],
   "source": [
    "plot_tree(clf3)"
   ]
  },
  {
   "cell_type": "code",
   "execution_count": 166,
   "id": "5015a011",
   "metadata": {},
   "outputs": [
    {
     "data": {
      "text/html": [
       "<div>\n",
       "<style scoped>\n",
       "    .dataframe tbody tr th:only-of-type {\n",
       "        vertical-align: middle;\n",
       "    }\n",
       "\n",
       "    .dataframe tbody tr th {\n",
       "        vertical-align: top;\n",
       "    }\n",
       "\n",
       "    .dataframe thead th {\n",
       "        text-align: right;\n",
       "    }\n",
       "</style>\n",
       "<table border=\"1\" class=\"dataframe\">\n",
       "  <thead>\n",
       "    <tr style=\"text-align: right;\">\n",
       "      <th></th>\n",
       "      <th>col5</th>\n",
       "      <th>col2</th>\n",
       "      <th>col3</th>\n",
       "      <th>col1</th>\n",
       "      <th>target</th>\n",
       "    </tr>\n",
       "  </thead>\n",
       "  <tbody>\n",
       "    <tr>\n",
       "      <th>40</th>\n",
       "      <td>1.593074</td>\n",
       "      <td>1.127284</td>\n",
       "      <td>0.574679</td>\n",
       "      <td>0.649414</td>\n",
       "      <td>0</td>\n",
       "    </tr>\n",
       "    <tr>\n",
       "      <th>47</th>\n",
       "      <td>-3.366179</td>\n",
       "      <td>1.905375</td>\n",
       "      <td>1.086562</td>\n",
       "      <td>1.516801</td>\n",
       "      <td>0</td>\n",
       "    </tr>\n",
       "    <tr>\n",
       "      <th>12</th>\n",
       "      <td>-0.821599</td>\n",
       "      <td>-1.278809</td>\n",
       "      <td>2.352655</td>\n",
       "      <td>0.250584</td>\n",
       "      <td>0</td>\n",
       "    </tr>\n",
       "    <tr>\n",
       "      <th>13</th>\n",
       "      <td>-3.460045</td>\n",
       "      <td>1.021166</td>\n",
       "      <td>0.486863</td>\n",
       "      <td>1.168409</td>\n",
       "      <td>0</td>\n",
       "    </tr>\n",
       "    <tr>\n",
       "      <th>50</th>\n",
       "      <td>-1.983977</td>\n",
       "      <td>0.173059</td>\n",
       "      <td>-0.547607</td>\n",
       "      <td>-1.072030</td>\n",
       "      <td>0</td>\n",
       "    </tr>\n",
       "  </tbody>\n",
       "</table>\n",
       "</div>"
      ],
      "text/plain": [
       "        col5      col2      col3      col1  target\n",
       "40  1.593074  1.127284  0.574679  0.649414       0\n",
       "47 -3.366179  1.905375  1.086562  1.516801       0\n",
       "12 -0.821599 -1.278809  2.352655  0.250584       0\n",
       "13 -3.460045  1.021166  0.486863  1.168409       0\n",
       "50 -1.983977  0.173059 -0.547607 -1.072030       0"
      ]
     },
     "execution_count": 166,
     "metadata": {},
     "output_type": "execute_result"
    }
   ],
   "source": [
    "df1.head()"
   ]
  },
  {
   "cell_type": "code",
   "execution_count": 170,
   "id": "09d6a4cf",
   "metadata": {},
   "outputs": [
    {
     "name": "stderr",
     "output_type": "stream",
     "text": [
      "C:\\Users\\himan\\anaconda3\\lib\\site-packages\\sklearn\\base.py:450: UserWarning: X does not have valid feature names, but DecisionTreeClassifier was fitted with feature names\n",
      "  warnings.warn(\n"
     ]
    },
    {
     "data": {
      "text/plain": [
       "array([0])"
      ]
     },
     "execution_count": 170,
     "metadata": {},
     "output_type": "execute_result"
    }
   ],
   "source": [
    "clf2.predict(np.array(['-0.821599','-1.278809','2.352655','0.250584']).reshape(1,4))"
   ]
  },
  {
   "cell_type": "code",
   "execution_count": 171,
   "id": "0a58c028",
   "metadata": {},
   "outputs": [
    {
     "name": "stderr",
     "output_type": "stream",
     "text": [
      "C:\\Users\\himan\\anaconda3\\lib\\site-packages\\sklearn\\base.py:450: UserWarning: X does not have valid feature names, but DecisionTreeClassifier was fitted with feature names\n",
      "  warnings.warn(\n"
     ]
    },
    {
     "data": {
      "text/plain": [
       "array([0])"
      ]
     },
     "execution_count": 171,
     "metadata": {},
     "output_type": "execute_result"
    }
   ],
   "source": [
    "clf1.predict(np.array(['-0.821599','-1.278809','2.352655','0.250584']).reshape(1,4))"
   ]
  },
  {
   "cell_type": "code",
   "execution_count": 172,
   "id": "3483f53f",
   "metadata": {},
   "outputs": [
    {
     "name": "stderr",
     "output_type": "stream",
     "text": [
      "C:\\Users\\himan\\anaconda3\\lib\\site-packages\\sklearn\\base.py:450: UserWarning: X does not have valid feature names, but DecisionTreeClassifier was fitted with feature names\n",
      "  warnings.warn(\n"
     ]
    },
    {
     "data": {
      "text/plain": [
       "array([1])"
      ]
     },
     "execution_count": 172,
     "metadata": {},
     "output_type": "execute_result"
    }
   ],
   "source": [
    "clf3.predict(np.array(['-0.821599','-1.278809','2.352655','0.250584']).reshape(1,4))"
   ]
  },
  {
   "cell_type": "code",
   "execution_count": 175,
   "id": "c4f5989b",
   "metadata": {},
   "outputs": [],
   "source": [
    "## result will be choosen as majority "
   ]
  },
  {
   "cell_type": "code",
   "execution_count": null,
   "id": "f2d8dc17",
   "metadata": {},
   "outputs": [],
   "source": [
    "\n"
   ]
  }
 ],
 "metadata": {
  "kernelspec": {
   "display_name": "Python 3 (ipykernel)",
   "language": "python",
   "name": "python3"
  },
  "language_info": {
   "codemirror_mode": {
    "name": "ipython",
    "version": 3
   },
   "file_extension": ".py",
   "mimetype": "text/x-python",
   "name": "python",
   "nbconvert_exporter": "python",
   "pygments_lexer": "ipython3",
   "version": "3.9.12"
  }
 },
 "nbformat": 4,
 "nbformat_minor": 5
}
