{
 "cells": [
  {
   "cell_type": "code",
   "execution_count": 1,
   "id": "114e8012",
   "metadata": {},
   "outputs": [],
   "source": [
    "from sklearn.datasets import make_classification\n",
    "from sklearn.metrics import accuracy_score\n",
    "from sklearn.ensemble import BaggingClassifier\n",
    "from sklearn.tree import DecisionTreeClassifier\n",
    "from sklearn.svm import SVC\n",
    "from sklearn.model_selection import train_test_split"
   ]
  },
  {
   "cell_type": "code",
   "execution_count": 2,
   "id": "c346477c",
   "metadata": {},
   "outputs": [],
   "source": [
    "X,y = make_classification(n_samples=10000,n_features=10,n_informative=3)"
   ]
  },
  {
   "cell_type": "code",
   "execution_count": 3,
   "id": "f65b1c6e",
   "metadata": {},
   "outputs": [],
   "source": [
    "X_train,X_test,y_train,y_test = train_test_split(X,y,test_size=0.33,random_state=42)"
   ]
  },
  {
   "cell_type": "code",
   "execution_count": 4,
   "id": "f735e124",
   "metadata": {},
   "outputs": [
    {
     "name": "stdout",
     "output_type": "stream",
     "text": [
      "accuracy : 0.8893939393939394\n"
     ]
    }
   ],
   "source": [
    "dt = DecisionTreeClassifier()\n",
    "dt.fit(X_train,y_train)\n",
    "y_pred = dt.predict(X_test)\n",
    "print('accuracy :',accuracy_score(y_pred,y_test))"
   ]
  },
  {
   "cell_type": "code",
   "execution_count": 5,
   "id": "8b40fcc0",
   "metadata": {},
   "outputs": [],
   "source": [
    "## Bagging\n",
    "\n",
    "bag = BaggingClassifier(base_estimator=DecisionTreeClassifier(),\n",
    "                       n_estimators=500,\n",
    "                       max_samples=0.35,\n",
    "                       bootstrap=True,\n",
    "                       random_state=42,n_jobs=-1)"
   ]
  },
  {
   "cell_type": "code",
   "execution_count": 6,
   "id": "5067534c",
   "metadata": {},
   "outputs": [
    {
     "data": {
      "text/plain": [
       "BaggingClassifier(base_estimator=DecisionTreeClassifier(), max_samples=0.35,\n",
       "                  n_estimators=500, n_jobs=-1, random_state=42)"
      ]
     },
     "execution_count": 6,
     "metadata": {},
     "output_type": "execute_result"
    }
   ],
   "source": [
    "bag.fit(X_train,y_train)\n"
   ]
  },
  {
   "cell_type": "code",
   "execution_count": 7,
   "id": "1d73aebf",
   "metadata": {},
   "outputs": [
    {
     "name": "stdout",
     "output_type": "stream",
     "text": [
      "accuracy : 0.9327272727272727\n"
     ]
    }
   ],
   "source": [
    "y_pred = bag.predict(X_test)\n",
    "\n",
    "print('accuracy :',accuracy_score(y_test,y_pred))"
   ]
  },
  {
   "cell_type": "code",
   "execution_count": 8,
   "id": "aa804181",
   "metadata": {},
   "outputs": [
    {
     "data": {
      "text/plain": [
       "(2345,)"
      ]
     },
     "execution_count": 8,
     "metadata": {},
     "output_type": "execute_result"
    }
   ],
   "source": [
    "\n",
    "bag.estimators_samples_[0].shape"
   ]
  },
  {
   "cell_type": "code",
   "execution_count": 9,
   "id": "217ba0a7",
   "metadata": {},
   "outputs": [],
   "source": [
    "## SVM \n",
    "\n",
    "bag = BaggingClassifier(base_estimator=SVC(),\n",
    "                       n_estimators=500,\n",
    "                       max_samples=0.35,\n",
    "                       bootstrap=True,\n",
    "                       random_state=42,n_jobs=-1)"
   ]
  },
  {
   "cell_type": "code",
   "execution_count": 10,
   "id": "14f7a980",
   "metadata": {},
   "outputs": [
    {
     "name": "stdout",
     "output_type": "stream",
     "text": [
      "accuracy : 0.9121212121212121\n"
     ]
    }
   ],
   "source": [
    "bag.fit(X_train,y_train)\n",
    "y_pred = bag.predict(X_test)\n",
    "\n",
    "print('accuracy :',accuracy_score(y_test,y_pred))"
   ]
  },
  {
   "cell_type": "code",
   "execution_count": 11,
   "id": "4d4f3416",
   "metadata": {},
   "outputs": [],
   "source": [
    "### PASTING\n",
    "bag = BaggingClassifier(base_estimator=DecisionTreeClassifier(),\n",
    "                       n_estimators=500,\n",
    "                       max_samples=0.25,\n",
    "                       bootstrap=False,\n",
    "                       random_state=42,\n",
    "                        verbose=1,\n",
    "                       n_jobs=-1)\n"
   ]
  },
  {
   "cell_type": "code",
   "execution_count": 12,
   "id": "b8150ae5",
   "metadata": {},
   "outputs": [
    {
     "name": "stderr",
     "output_type": "stream",
     "text": [
      "[Parallel(n_jobs=8)]: Using backend LokyBackend with 8 concurrent workers.\n",
      "[Parallel(n_jobs=8)]: Done   2 out of   8 | elapsed:    1.3s remaining:    4.2s\n",
      "[Parallel(n_jobs=8)]: Done   8 out of   8 | elapsed:    1.4s finished\n",
      "[Parallel(n_jobs=8)]: Using backend LokyBackend with 8 concurrent workers.\n",
      "[Parallel(n_jobs=8)]: Done   2 out of   8 | elapsed:    0.0s remaining:    0.2s\n"
     ]
    },
    {
     "name": "stdout",
     "output_type": "stream",
     "text": [
      "accuracy : 0.9318181818181818\n"
     ]
    },
    {
     "name": "stderr",
     "output_type": "stream",
     "text": [
      "[Parallel(n_jobs=8)]: Done   8 out of   8 | elapsed:    0.1s finished\n"
     ]
    }
   ],
   "source": [
    "bag.fit(X_train,y_train)\n",
    "y_pred = bag.predict(X_test)\n",
    "\n",
    "print('accuracy :',accuracy_score(y_test,y_pred))"
   ]
  },
  {
   "cell_type": "code",
   "execution_count": 13,
   "id": "129e4754",
   "metadata": {},
   "outputs": [],
   "source": [
    "##Random subspace\n",
    "bag = BaggingClassifier(base_estimator=DecisionTreeClassifier(),\n",
    "                       n_estimators=500,\n",
    "                       max_samples=1.0,\n",
    "                       bootstrap=False,\n",
    "                       random_state=42,\n",
    "                        max_features=0.5,\n",
    "                        bootstrap_features=True\n",
    "                        )"
   ]
  },
  {
   "cell_type": "code",
   "execution_count": 14,
   "id": "defef9f6",
   "metadata": {},
   "outputs": [
    {
     "name": "stdout",
     "output_type": "stream",
     "text": [
      "accuracy : 0.9227272727272727\n"
     ]
    }
   ],
   "source": [
    "bag.fit(X_train,y_train)\n",
    "y_pred = bag.predict(X_test)\n",
    "\n",
    "print('accuracy :',accuracy_score(y_test,y_pred))"
   ]
  },
  {
   "cell_type": "code",
   "execution_count": 15,
   "id": "25e99d77",
   "metadata": {},
   "outputs": [
    {
     "data": {
      "text/plain": [
       "(5,)"
      ]
     },
     "execution_count": 15,
     "metadata": {},
     "output_type": "execute_result"
    }
   ],
   "source": [
    "bag.estimators_features_[0].shape"
   ]
  },
  {
   "cell_type": "code",
   "execution_count": 16,
   "id": "eefbf6d2",
   "metadata": {},
   "outputs": [
    {
     "data": {
      "text/plain": [
       "(6700,)"
      ]
     },
     "execution_count": 16,
     "metadata": {},
     "output_type": "execute_result"
    }
   ],
   "source": [
    "bag.estimators_samples_[0].shape"
   ]
  },
  {
   "cell_type": "code",
   "execution_count": 17,
   "id": "745ae2d1",
   "metadata": {},
   "outputs": [],
   "source": [
    "## random Patch\n",
    "\n",
    "bag = BaggingClassifier(base_estimator=DecisionTreeClassifier(),\n",
    "                       n_estimators=500,\n",
    "                       max_samples=0.25,\n",
    "                       bootstrap=True,\n",
    "                       random_state=42,\n",
    "                        max_features=0.5,\n",
    "                        bootstrap_features=True\n",
    "                        )"
   ]
  },
  {
   "cell_type": "code",
   "execution_count": 18,
   "id": "849bae76",
   "metadata": {},
   "outputs": [
    {
     "name": "stdout",
     "output_type": "stream",
     "text": [
      "accuracy : 0.9233333333333333\n"
     ]
    }
   ],
   "source": [
    "bag.fit(X_train,y_train)\n",
    "y_pred = bag.predict(X_test)\n",
    "\n",
    "print('accuracy :',accuracy_score(y_test,y_pred))"
   ]
  },
  {
   "cell_type": "code",
   "execution_count": 19,
   "id": "a6ebea75",
   "metadata": {},
   "outputs": [
    {
     "name": "stdout",
     "output_type": "stream",
     "text": [
      "accuracy : 0.9306060606060607\n"
     ]
    }
   ],
   "source": [
    "## OOB Score # out of bag sample - 37% rows never got in training\n",
    "\n",
    "bag = BaggingClassifier(base_estimator=DecisionTreeClassifier(),\n",
    "                       n_estimators=500,\n",
    "                       max_samples=0.25,\n",
    "                       bootstrap=True,\n",
    "                       random_state=42,                       \n",
    "                        oob_score=True\n",
    "                        )\n",
    "\n",
    "\n",
    "bag.fit(X_train,y_train)\n",
    "y_pred = bag.predict(X_test)\n",
    "\n",
    "print('accuracy :',accuracy_score(y_test,y_pred))"
   ]
  },
  {
   "cell_type": "code",
   "execution_count": 20,
   "id": "71383900",
   "metadata": {},
   "outputs": [
    {
     "data": {
      "text/plain": [
       "0.9335820895522388"
      ]
     },
     "execution_count": 20,
     "metadata": {},
     "output_type": "execute_result"
    }
   ],
   "source": [
    "bag.oob_score_"
   ]
  },
  {
   "cell_type": "code",
   "execution_count": 21,
   "id": "7dbf0b7e",
   "metadata": {},
   "outputs": [],
   "source": [
    "## Bagging gives better result than Paste but still always try\n",
    "## Good results come around 25% to 50% rows sampling mark\n",
    "## Random Patches are useful with n-dim features\n",
    "## To find better results use hyperparameters - GridSearchCV/RandomSeachCV"
   ]
  }
 ],
 "metadata": {
  "kernelspec": {
   "display_name": "Python 3 (ipykernel)",
   "language": "python",
   "name": "python3"
  },
  "language_info": {
   "codemirror_mode": {
    "name": "ipython",
    "version": 3
   },
   "file_extension": ".py",
   "mimetype": "text/x-python",
   "name": "python",
   "nbconvert_exporter": "python",
   "pygments_lexer": "ipython3",
   "version": "3.9.12"
  }
 },
 "nbformat": 4,
 "nbformat_minor": 5
}
