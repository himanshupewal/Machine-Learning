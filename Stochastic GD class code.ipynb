{
 "cells": [
  {
   "cell_type": "code",
   "execution_count": 1,
   "id": "63737dc3",
   "metadata": {},
   "outputs": [],
   "source": [
    "import pandas as pd\n",
    "import numpy as np\n",
    "from sklearn.datasets import load_diabetes\n",
    "from sklearn.model_selection import train_test_split\n",
    "from sklearn.linear_model import LinearRegression\n",
    "from sklearn.metrics import r2_score\n",
    "import time"
   ]
  },
  {
   "cell_type": "code",
   "execution_count": 2,
   "id": "dbed0cd6",
   "metadata": {},
   "outputs": [],
   "source": [
    "X,y = load_diabetes(return_X_y=True)"
   ]
  },
  {
   "cell_type": "code",
   "execution_count": 3,
   "id": "af9e1ae5",
   "metadata": {},
   "outputs": [],
   "source": [
    "X_train,X_test,y_train,y_test = train_test_split(X,y,test_size=0.2,random_state=2)"
   ]
  },
  {
   "cell_type": "code",
   "execution_count": 4,
   "id": "94e6e663",
   "metadata": {},
   "outputs": [
    {
     "data": {
      "text/plain": [
       "(353, 10)"
      ]
     },
     "execution_count": 4,
     "metadata": {},
     "output_type": "execute_result"
    }
   ],
   "source": [
    "X_train.shape"
   ]
  },
  {
   "cell_type": "code",
   "execution_count": 33,
   "id": "64907792",
   "metadata": {},
   "outputs": [],
   "source": [
    "class SGD:\n",
    "    \n",
    "    def __init__(self,learning_rate,epochs):\n",
    "                self.lr=learning_rate\n",
    "                self.epochs = epochs\n",
    "                self.coef_ = None\n",
    "                self.intercept_ = None\n",
    "   \n",
    "    \n",
    "    def fit(self,X_train,y_train):\n",
    "                    self.intercept_ = 0\n",
    "                    self.coef_ = np.ones(X_train.shape[1])\n",
    "                    \n",
    "                    for i in range(self.epochs):\n",
    "                        for j in range(X_train.shape[0]):\n",
    "                            \n",
    "                            idx = np.random.randint(0,X_train.shape[0])\n",
    "                            \n",
    "                            y_hat = np.dot(X_train[idx],self.coef_) + self.intercept_\n",
    "                            intercept_der  = -2 * (y_train[idx] - y_hat)\n",
    "                            self.intercept_ = self.intercept_ - (self.lr * intercept_der)\n",
    "                            \n",
    "                            \n",
    "                            coef_der = -2 * np.dot(y_train[idx] -y_hat,X_train[idx])\n",
    "                            self.coef_ = self.coef_ - (self.lr* coef_der )\n",
    "                    \n",
    "                    print(self.coef_,self.intercept_)\n",
    "                \n",
    "                \n",
    "    def predict(self,X_test):\n",
    "         return np.dot(X_test,self.coef_) + self.intercept_\n",
    "                    \n",
    "    \n",
    "                    \n",
    "                    \n",
    "         "
   ]
  },
  {
   "cell_type": "code",
   "execution_count": 107,
   "id": "5e11a007",
   "metadata": {},
   "outputs": [],
   "source": [
    "sgd =  SGD(learning_rate = 0.01 ,epochs = 100)"
   ]
  },
  {
   "cell_type": "code",
   "execution_count": 108,
   "id": "04b48ea1",
   "metadata": {},
   "outputs": [
    {
     "name": "stdout",
     "output_type": "stream",
     "text": [
      "[  27.12017648 -137.44201899  446.82139418  305.45970487  -23.87915887\n",
      "  -94.05611569 -188.09013576  112.44859222  413.54870044  110.8232026 ] 154.63602369721002\n",
      "time taken : 0.33562159538269043\n"
     ]
    }
   ],
   "source": [
    "start  = time.time()\n",
    "sgd.fit(X_train,y_train)\n",
    "print(\"time taken :\" ,time.time()-start )"
   ]
  },
  {
   "cell_type": "code",
   "execution_count": 109,
   "id": "25f20bcc",
   "metadata": {},
   "outputs": [],
   "source": [
    "y_pred = sgd.predict(X_test)"
   ]
  },
  {
   "cell_type": "code",
   "execution_count": 110,
   "id": "aae22d91",
   "metadata": {},
   "outputs": [
    {
     "data": {
      "text/plain": [
       "0.4515629169879295"
      ]
     },
     "execution_count": 110,
     "metadata": {},
     "output_type": "execute_result"
    }
   ],
   "source": [
    "r2_score (y_test,y_pred)"
   ]
  },
  {
   "cell_type": "code",
   "execution_count": null,
   "id": "dc4c0a69",
   "metadata": {},
   "outputs": [],
   "source": []
  }
 ],
 "metadata": {
  "kernelspec": {
   "display_name": "Python 3 (ipykernel)",
   "language": "python",
   "name": "python3"
  },
  "language_info": {
   "codemirror_mode": {
    "name": "ipython",
    "version": 3
   },
   "file_extension": ".py",
   "mimetype": "text/x-python",
   "name": "python",
   "nbconvert_exporter": "python",
   "pygments_lexer": "ipython3",
   "version": "3.9.12"
  }
 },
 "nbformat": 4,
 "nbformat_minor": 5
}
