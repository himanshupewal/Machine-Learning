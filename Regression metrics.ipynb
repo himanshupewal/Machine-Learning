{
 "cells": [
  {
   "cell_type": "code",
   "execution_count": 1,
   "id": "d599d1c7",
   "metadata": {},
   "outputs": [],
   "source": [
    "import pandas as pd\n",
    "import numpy as np\n",
    "import matplotlib.pyplot as plt"
   ]
  },
  {
   "cell_type": "code",
   "execution_count": 3,
   "id": "5c347457",
   "metadata": {},
   "outputs": [],
   "source": [
    "df = pd.read_csv(\"C:/Users/himan/OneDrive/Desktop/Data sets/placement.csv\")"
   ]
  },
  {
   "cell_type": "code",
   "execution_count": 4,
   "id": "69ff619a",
   "metadata": {},
   "outputs": [
    {
     "data": {
      "text/html": [
       "<div>\n",
       "<style scoped>\n",
       "    .dataframe tbody tr th:only-of-type {\n",
       "        vertical-align: middle;\n",
       "    }\n",
       "\n",
       "    .dataframe tbody tr th {\n",
       "        vertical-align: top;\n",
       "    }\n",
       "\n",
       "    .dataframe thead th {\n",
       "        text-align: right;\n",
       "    }\n",
       "</style>\n",
       "<table border=\"1\" class=\"dataframe\">\n",
       "  <thead>\n",
       "    <tr style=\"text-align: right;\">\n",
       "      <th></th>\n",
       "      <th>cgpa</th>\n",
       "      <th>package</th>\n",
       "    </tr>\n",
       "  </thead>\n",
       "  <tbody>\n",
       "    <tr>\n",
       "      <th>0</th>\n",
       "      <td>6.89</td>\n",
       "      <td>3.26</td>\n",
       "    </tr>\n",
       "    <tr>\n",
       "      <th>1</th>\n",
       "      <td>5.12</td>\n",
       "      <td>1.98</td>\n",
       "    </tr>\n",
       "    <tr>\n",
       "      <th>2</th>\n",
       "      <td>7.82</td>\n",
       "      <td>3.25</td>\n",
       "    </tr>\n",
       "    <tr>\n",
       "      <th>3</th>\n",
       "      <td>7.42</td>\n",
       "      <td>3.67</td>\n",
       "    </tr>\n",
       "    <tr>\n",
       "      <th>4</th>\n",
       "      <td>6.94</td>\n",
       "      <td>3.57</td>\n",
       "    </tr>\n",
       "    <tr>\n",
       "      <th>...</th>\n",
       "      <td>...</td>\n",
       "      <td>...</td>\n",
       "    </tr>\n",
       "    <tr>\n",
       "      <th>195</th>\n",
       "      <td>6.93</td>\n",
       "      <td>2.46</td>\n",
       "    </tr>\n",
       "    <tr>\n",
       "      <th>196</th>\n",
       "      <td>5.89</td>\n",
       "      <td>2.57</td>\n",
       "    </tr>\n",
       "    <tr>\n",
       "      <th>197</th>\n",
       "      <td>7.21</td>\n",
       "      <td>3.24</td>\n",
       "    </tr>\n",
       "    <tr>\n",
       "      <th>198</th>\n",
       "      <td>7.63</td>\n",
       "      <td>3.96</td>\n",
       "    </tr>\n",
       "    <tr>\n",
       "      <th>199</th>\n",
       "      <td>6.22</td>\n",
       "      <td>2.33</td>\n",
       "    </tr>\n",
       "  </tbody>\n",
       "</table>\n",
       "<p>200 rows × 2 columns</p>\n",
       "</div>"
      ],
      "text/plain": [
       "     cgpa  package\n",
       "0    6.89     3.26\n",
       "1    5.12     1.98\n",
       "2    7.82     3.25\n",
       "3    7.42     3.67\n",
       "4    6.94     3.57\n",
       "..    ...      ...\n",
       "195  6.93     2.46\n",
       "196  5.89     2.57\n",
       "197  7.21     3.24\n",
       "198  7.63     3.96\n",
       "199  6.22     2.33\n",
       "\n",
       "[200 rows x 2 columns]"
      ]
     },
     "execution_count": 4,
     "metadata": {},
     "output_type": "execute_result"
    }
   ],
   "source": [
    "df"
   ]
  },
  {
   "cell_type": "code",
   "execution_count": 7,
   "id": "7857f314",
   "metadata": {},
   "outputs": [
    {
     "data": {
      "image/png": "[encoded data removed]",
      "text/plain": [
       "<Figure size 432x288 with 1 Axes>"
      ]
     },
     "metadata": {
      "needs_background": "light"
     },
     "output_type": "display_data"
    }
   ],
   "source": [
    "plt.scatter(df[\"cgpa\"],df[\"package\"])\n",
    "plt.xlabel(\"cgpa\")\n",
    "plt.ylabel(\"package\")\n",
    "plt.show()"
   ]
  },
  {
   "cell_type": "code",
   "execution_count": 26,
   "id": "cc388fc3",
   "metadata": {},
   "outputs": [],
   "source": [
    "X=df.iloc[:,0:1].values\n",
    "y = df.iloc[:,-1].values"
   ]
  },
  {
   "cell_type": "code",
   "execution_count": 35,
   "id": "406b7558",
   "metadata": {
    "collapsed": true
   },
   "outputs": [
    {
     "data": {
      "text/plain": [
       "array([[6.89],\n",
       "       [5.12],\n",
       "       [7.82],\n",
       "       [7.42],\n",
       "       [6.94],\n",
       "       [7.89],\n",
       "       [6.73],\n",
       "       [6.75],\n",
       "       [6.09],\n",
       "       [8.31],\n",
       "       [5.32],\n",
       "       [6.61],\n",
       "       [8.94],\n",
       "       [6.93],\n",
       "       [7.73],\n",
       "       [7.25],\n",
       "       [6.84],\n",
       "       [5.38],\n",
       "       [6.94],\n",
       "       [7.48],\n",
       "       [7.28],\n",
       "       [6.85],\n",
       "       [6.14],\n",
       "       [6.19],\n",
       "       [6.53],\n",
       "       [7.28],\n",
       "       [8.31],\n",
       "       [5.42],\n",
       "       [5.94],\n",
       "       [7.15],\n",
       "       [7.36],\n",
       "       [8.1 ],\n",
       "       [6.96],\n",
       "       [6.35],\n",
       "       [7.34],\n",
       "       [6.87],\n",
       "       [5.99],\n",
       "       [5.9 ],\n",
       "       [8.62],\n",
       "       [7.43],\n",
       "       [9.38],\n",
       "       [6.89],\n",
       "       [5.95],\n",
       "       [7.66],\n",
       "       [5.09],\n",
       "       [7.87],\n",
       "       [6.07],\n",
       "       [5.84],\n",
       "       [8.63],\n",
       "       [8.87],\n",
       "       [9.58],\n",
       "       [9.26],\n",
       "       [8.37],\n",
       "       [6.47],\n",
       "       [6.86],\n",
       "       [8.2 ],\n",
       "       [5.84],\n",
       "       [6.6 ],\n",
       "       [6.92],\n",
       "       [7.56],\n",
       "       [5.61],\n",
       "       [5.48],\n",
       "       [6.34],\n",
       "       [9.16],\n",
       "       [7.36],\n",
       "       [7.6 ],\n",
       "       [5.11],\n",
       "       [6.51],\n",
       "       [7.56],\n",
       "       [7.3 ],\n",
       "       [5.79],\n",
       "       [7.47],\n",
       "       [7.78],\n",
       "       [8.44],\n",
       "       [6.85],\n",
       "       [6.97],\n",
       "       [6.94],\n",
       "       [8.99],\n",
       "       [6.59],\n",
       "       [7.18],\n",
       "       [7.63],\n",
       "       [6.1 ],\n",
       "       [5.58],\n",
       "       [8.44],\n",
       "       [4.26],\n",
       "       [4.79],\n",
       "       [7.61],\n",
       "       [8.09],\n",
       "       [4.73],\n",
       "       [6.42],\n",
       "       [7.11],\n",
       "       [6.22],\n",
       "       [7.9 ],\n",
       "       [6.79],\n",
       "       [5.83],\n",
       "       [6.63],\n",
       "       [7.11],\n",
       "       [5.98],\n",
       "       [7.69],\n",
       "       [6.61],\n",
       "       [7.95],\n",
       "       [6.71],\n",
       "       [5.13],\n",
       "       [7.05],\n",
       "       [7.62],\n",
       "       [6.66],\n",
       "       [6.13],\n",
       "       [6.33],\n",
       "       [7.76],\n",
       "       [7.77],\n",
       "       [8.18],\n",
       "       [5.42],\n",
       "       [8.58],\n",
       "       [6.94],\n",
       "       [5.84],\n",
       "       [8.35],\n",
       "       [9.04],\n",
       "       [7.12],\n",
       "       [7.4 ],\n",
       "       [7.39],\n",
       "       [5.23],\n",
       "       [6.5 ],\n",
       "       [5.12],\n",
       "       [5.1 ],\n",
       "       [6.06],\n",
       "       [7.33],\n",
       "       [5.91],\n",
       "       [6.78],\n",
       "       [7.93],\n",
       "       [7.29],\n",
       "       [6.68],\n",
       "       [6.37],\n",
       "       [5.84],\n",
       "       [6.05],\n",
       "       [7.2 ],\n",
       "       [6.1 ],\n",
       "       [5.64],\n",
       "       [7.14],\n",
       "       [7.91],\n",
       "       [7.19],\n",
       "       [7.91],\n",
       "       [6.76],\n",
       "       [6.93],\n",
       "       [4.85],\n",
       "       [6.17],\n",
       "       [5.84],\n",
       "       [6.07],\n",
       "       [5.66],\n",
       "       [7.57],\n",
       "       [8.28],\n",
       "       [6.3 ],\n",
       "       [6.12],\n",
       "       [7.37],\n",
       "       [7.94],\n",
       "       [7.08],\n",
       "       [6.98],\n",
       "       [7.38],\n",
       "       [6.47],\n",
       "       [5.95],\n",
       "       [8.71],\n",
       "       [7.13],\n",
       "       [7.3 ],\n",
       "       [5.53],\n",
       "       [8.93],\n",
       "       [9.06],\n",
       "       [8.21],\n",
       "       [8.6 ],\n",
       "       [8.13],\n",
       "       [8.65],\n",
       "       [9.31],\n",
       "       [6.22],\n",
       "       [8.01],\n",
       "       [6.93],\n",
       "       [6.75],\n",
       "       [7.32],\n",
       "       [7.04],\n",
       "       [6.29],\n",
       "       [7.09],\n",
       "       [8.15],\n",
       "       [7.14],\n",
       "       [6.19],\n",
       "       [8.22],\n",
       "       [5.88],\n",
       "       [7.28],\n",
       "       [7.88],\n",
       "       [6.31],\n",
       "       [7.84],\n",
       "       [6.26],\n",
       "       [7.35],\n",
       "       [8.11],\n",
       "       [6.19],\n",
       "       [7.28],\n",
       "       [8.25],\n",
       "       [4.57],\n",
       "       [7.89],\n",
       "       [6.93],\n",
       "       [5.89],\n",
       "       [7.21],\n",
       "       [7.63],\n",
       "       [6.22]])"
      ]
     },
     "execution_count": 35,
     "metadata": {},
     "output_type": "execute_result"
    }
   ],
   "source": [
    "X"
   ]
  },
  {
   "cell_type": "code",
   "execution_count": 34,
   "id": "373333c1",
   "metadata": {
    "collapsed": true
   },
   "outputs": [
    {
     "data": {
      "text/plain": [
       "array([3.26, 1.98, 3.25, 3.67, 3.57, 2.99, 2.6 , 2.48, 2.31, 3.51, 1.86,\n",
       "       2.6 , 3.65, 2.89, 3.42, 3.23, 2.35, 2.09, 2.98, 2.83, 3.16, 2.93,\n",
       "       2.3 , 2.48, 2.71, 3.65, 3.42, 2.16, 2.24, 3.49, 3.26, 3.89, 3.08,\n",
       "       2.73, 3.42, 2.87, 2.84, 2.43, 4.36, 3.33, 4.02, 2.7 , 2.54, 2.76,\n",
       "       1.86, 3.58, 2.26, 3.26, 4.09, 4.62, 4.43, 3.79, 4.11, 2.61, 3.09,\n",
       "       3.39, 2.74, 1.94, 3.09, 3.31, 2.19, 1.61, 2.09, 4.25, 2.92, 3.81,\n",
       "       1.63, 2.89, 2.99, 2.94, 2.35, 3.34, 3.62, 4.03, 3.44, 3.28, 3.15,\n",
       "       4.6 , 2.21, 3.  , 3.44, 2.2 , 2.17, 3.49, 1.53, 1.48, 2.77, 3.55,\n",
       "       1.48, 2.72, 2.66, 2.14, 4.  , 3.08, 2.42, 2.79, 2.61, 2.84, 3.83,\n",
       "       3.24, 4.14, 3.52, 1.37, 3.  , 3.74, 2.82, 2.19, 2.59, 3.54, 4.06,\n",
       "       3.76, 2.25, 4.1 , 2.37, 1.87, 4.21, 3.33, 2.99, 2.88, 2.65, 1.73,\n",
       "       3.02, 2.01, 2.3 , 2.31, 3.16, 2.6 , 3.11, 3.34, 3.12, 2.49, 2.01,\n",
       "       2.48, 2.58, 2.83, 2.6 , 2.1 , 3.13, 3.89, 2.4 , 3.15, 3.18, 3.04,\n",
       "       1.54, 2.42, 2.18, 2.46, 2.21, 3.4 , 3.67, 2.73, 2.76, 3.08, 3.99,\n",
       "       2.85, 3.09, 3.13, 2.7 , 3.04, 4.08, 2.93, 3.33, 2.55, 3.91, 3.82,\n",
       "       4.08, 3.98, 3.6 , 3.52, 4.37, 2.87, 3.76, 2.51, 2.56, 2.99, 3.5 ,\n",
       "       3.23, 3.64, 3.63, 3.03, 2.72, 3.89, 2.08, 2.72, 3.14, 3.18, 3.47,\n",
       "       2.44, 3.08, 4.06, 2.69, 3.48, 3.75, 1.94, 3.67, 2.46, 2.57, 3.24,\n",
       "       3.96, 2.33])"
      ]
     },
     "execution_count": 34,
     "metadata": {},
     "output_type": "execute_result"
    }
   ],
   "source": [
    "y"
   ]
  },
  {
   "cell_type": "code",
   "execution_count": 29,
   "id": "1977fd72",
   "metadata": {},
   "outputs": [],
   "source": [
    "from sklearn.model_selection import train_test_split\n",
    "X_train,X_test,y_train,y_test = train_test_split(X,y,test_size=0.2,random_state=2)"
   ]
  },
  {
   "cell_type": "code",
   "execution_count": 30,
   "id": "0b3361f2",
   "metadata": {},
   "outputs": [],
   "source": [
    "from sklearn.linear_model import LinearRegression"
   ]
  },
  {
   "cell_type": "code",
   "execution_count": 31,
   "id": "6d82986a",
   "metadata": {},
   "outputs": [],
   "source": [
    "lr = LinearRegression()"
   ]
  },
  {
   "cell_type": "code",
   "execution_count": 32,
   "id": "a5292a2b",
   "metadata": {},
   "outputs": [
    {
     "data": {
      "text/plain": [
       "LinearRegression()"
      ]
     },
     "execution_count": 32,
     "metadata": {},
     "output_type": "execute_result"
    }
   ],
   "source": [
    "lr.fit(X_train,y_train)"
   ]
  },
  {
   "cell_type": "code",
   "execution_count": 33,
   "id": "84e2ad7a",
   "metadata": {},
   "outputs": [
    {
     "data": {
      "image/png": "[encoded data removed]",
      "text/plain": [
       "<Figure size 432x288 with 1 Axes>"
      ]
     },
     "metadata": {
      "needs_background": "light"
     },
     "output_type": "display_data"
    }
   ],
   "source": [
    "plt.scatter(df[\"cgpa\"],df[\"package\"])\n",
    "plt.plot(X_train,lr.predict(X_train),color = 'red')\n",
    "plt.xlabel(\"cgpa\")\n",
    "plt.ylabel(\"package\")\n",
    "plt.show()"
   ]
  },
  {
   "cell_type": "code",
   "execution_count": 36,
   "id": "f8c4b9c8",
   "metadata": {},
   "outputs": [],
   "source": [
    "from sklearn.metrics import mean_absolute_error,mean_squared_error,r2_score"
   ]
  },
  {
   "cell_type": "code",
   "execution_count": 41,
   "id": "b9280fa5",
   "metadata": {},
   "outputs": [],
   "source": [
    "y_pred = lr.predict(X_test)"
   ]
  },
  {
   "cell_type": "code",
   "execution_count": 42,
   "id": "42b1e60d",
   "metadata": {},
   "outputs": [
    {
     "name": "stdout",
     "output_type": "stream",
     "text": [
      "MAE : 0.2884710931878175\n"
     ]
    }
   ],
   "source": [
    "print(\"MAE :\", mean_absolute_error(y_test,y_pred))"
   ]
  },
  {
   "cell_type": "code",
   "execution_count": 44,
   "id": "c0c9bceb",
   "metadata": {},
   "outputs": [
    {
     "name": "stdout",
     "output_type": "stream",
     "text": [
      "MAE : 0.12129235313495527\n"
     ]
    }
   ],
   "source": [
    "print(\"MSE :\", mean_squared_error(y_test,y_pred))"
   ]
  },
  {
   "cell_type": "code",
   "execution_count": 46,
   "id": "a30f1861",
   "metadata": {},
   "outputs": [
    {
     "name": "stdout",
     "output_type": "stream",
     "text": [
      "RMSE : 0.34827051717731616\n"
     ]
    }
   ],
   "source": [
    "print(\"RMSE :\", np.sqrt(mean_squared_error(y_test,y_pred)))"
   ]
  },
  {
   "cell_type": "code",
   "execution_count": 49,
   "id": "74381495",
   "metadata": {},
   "outputs": [
    {
     "name": "stdout",
     "output_type": "stream",
     "text": [
      "R2 score : 0.780730147510384\n"
     ]
    }
   ],
   "source": [
    "print(\"R2 score :\", r2_score(y_test,y_pred)) # explains 78% variance in output column.\n",
    "r2 = r2_score(y_test,y_pred)"
   ]
  },
  {
   "cell_type": "code",
   "execution_count": 50,
   "id": "9ad71dc0",
   "metadata": {},
   "outputs": [
    {
     "data": {
      "text/plain": [
       "(40, 1)"
      ]
     },
     "execution_count": 50,
     "metadata": {},
     "output_type": "execute_result"
    }
   ],
   "source": [
    "X_test.shape "
   ]
  },
  {
   "cell_type": "code",
   "execution_count": 54,
   "id": "a4efe5bf",
   "metadata": {},
   "outputs": [
    {
     "data": {
      "text/plain": [
       "0.7749598882343415"
      ]
     },
     "execution_count": 54,
     "metadata": {},
     "output_type": "execute_result"
    }
   ],
   "source": [
    "# adjusted r2 score\n",
    "1 - ((1-r2)*(40-1)/(40-1-1))"
   ]
  },
  {
   "cell_type": "code",
   "execution_count": 59,
   "id": "0a5a6251",
   "metadata": {},
   "outputs": [],
   "source": [
    "new_df = df.copy()\n",
    "new_df[\"random_features\"]=np.random.random(200)"
   ]
  },
  {
   "cell_type": "code",
   "execution_count": 60,
   "id": "b12f6fd1",
   "metadata": {},
   "outputs": [
    {
     "data": {
      "text/html": [
       "<div>\n",
       "<style scoped>\n",
       "    .dataframe tbody tr th:only-of-type {\n",
       "        vertical-align: middle;\n",
       "    }\n",
       "\n",
       "    .dataframe tbody tr th {\n",
       "        vertical-align: top;\n",
       "    }\n",
       "\n",
       "    .dataframe thead th {\n",
       "        text-align: right;\n",
       "    }\n",
       "</style>\n",
       "<table border=\"1\" class=\"dataframe\">\n",
       "  <thead>\n",
       "    <tr style=\"text-align: right;\">\n",
       "      <th></th>\n",
       "      <th>cgpa</th>\n",
       "      <th>package</th>\n",
       "      <th>random_features</th>\n",
       "    </tr>\n",
       "  </thead>\n",
       "  <tbody>\n",
       "    <tr>\n",
       "      <th>0</th>\n",
       "      <td>6.89</td>\n",
       "      <td>3.26</td>\n",
       "      <td>0.342131</td>\n",
       "    </tr>\n",
       "    <tr>\n",
       "      <th>1</th>\n",
       "      <td>5.12</td>\n",
       "      <td>1.98</td>\n",
       "      <td>0.251278</td>\n",
       "    </tr>\n",
       "    <tr>\n",
       "      <th>2</th>\n",
       "      <td>7.82</td>\n",
       "      <td>3.25</td>\n",
       "      <td>0.242479</td>\n",
       "    </tr>\n",
       "    <tr>\n",
       "      <th>3</th>\n",
       "      <td>7.42</td>\n",
       "      <td>3.67</td>\n",
       "      <td>0.984736</td>\n",
       "    </tr>\n",
       "    <tr>\n",
       "      <th>4</th>\n",
       "      <td>6.94</td>\n",
       "      <td>3.57</td>\n",
       "      <td>0.363998</td>\n",
       "    </tr>\n",
       "    <tr>\n",
       "      <th>...</th>\n",
       "      <td>...</td>\n",
       "      <td>...</td>\n",
       "      <td>...</td>\n",
       "    </tr>\n",
       "    <tr>\n",
       "      <th>195</th>\n",
       "      <td>6.93</td>\n",
       "      <td>2.46</td>\n",
       "      <td>0.376337</td>\n",
       "    </tr>\n",
       "    <tr>\n",
       "      <th>196</th>\n",
       "      <td>5.89</td>\n",
       "      <td>2.57</td>\n",
       "      <td>0.565344</td>\n",
       "    </tr>\n",
       "    <tr>\n",
       "      <th>197</th>\n",
       "      <td>7.21</td>\n",
       "      <td>3.24</td>\n",
       "      <td>0.215310</td>\n",
       "    </tr>\n",
       "    <tr>\n",
       "      <th>198</th>\n",
       "      <td>7.63</td>\n",
       "      <td>3.96</td>\n",
       "      <td>0.718704</td>\n",
       "    </tr>\n",
       "    <tr>\n",
       "      <th>199</th>\n",
       "      <td>6.22</td>\n",
       "      <td>2.33</td>\n",
       "      <td>0.782628</td>\n",
       "    </tr>\n",
       "  </tbody>\n",
       "</table>\n",
       "<p>200 rows × 3 columns</p>\n",
       "</div>"
      ],
      "text/plain": [
       "     cgpa  package  random_features\n",
       "0    6.89     3.26         0.342131\n",
       "1    5.12     1.98         0.251278\n",
       "2    7.82     3.25         0.242479\n",
       "3    7.42     3.67         0.984736\n",
       "4    6.94     3.57         0.363998\n",
       "..    ...      ...              ...\n",
       "195  6.93     2.46         0.376337\n",
       "196  5.89     2.57         0.565344\n",
       "197  7.21     3.24         0.215310\n",
       "198  7.63     3.96         0.718704\n",
       "199  6.22     2.33         0.782628\n",
       "\n",
       "[200 rows x 3 columns]"
      ]
     },
     "execution_count": 60,
     "metadata": {},
     "output_type": "execute_result"
    }
   ],
   "source": [
    "new_df"
   ]
  },
  {
   "cell_type": "code",
   "execution_count": 63,
   "id": "4f23b8ab",
   "metadata": {},
   "outputs": [],
   "source": [
    "new_df=new_df[[\"cgpa\",\"random_features\",\"package\"]]"
   ]
  },
  {
   "cell_type": "code",
   "execution_count": 64,
   "id": "732959cd",
   "metadata": {},
   "outputs": [
    {
     "data": {
      "text/html": [
       "<div>\n",
       "<style scoped>\n",
       "    .dataframe tbody tr th:only-of-type {\n",
       "        vertical-align: middle;\n",
       "    }\n",
       "\n",
       "    .dataframe tbody tr th {\n",
       "        vertical-align: top;\n",
       "    }\n",
       "\n",
       "    .dataframe thead th {\n",
       "        text-align: right;\n",
       "    }\n",
       "</style>\n",
       "<table border=\"1\" class=\"dataframe\">\n",
       "  <thead>\n",
       "    <tr style=\"text-align: right;\">\n",
       "      <th></th>\n",
       "      <th>cgpa</th>\n",
       "      <th>random_features</th>\n",
       "      <th>package</th>\n",
       "    </tr>\n",
       "  </thead>\n",
       "  <tbody>\n",
       "    <tr>\n",
       "      <th>0</th>\n",
       "      <td>6.89</td>\n",
       "      <td>0.342131</td>\n",
       "      <td>3.26</td>\n",
       "    </tr>\n",
       "    <tr>\n",
       "      <th>1</th>\n",
       "      <td>5.12</td>\n",
       "      <td>0.251278</td>\n",
       "      <td>1.98</td>\n",
       "    </tr>\n",
       "    <tr>\n",
       "      <th>2</th>\n",
       "      <td>7.82</td>\n",
       "      <td>0.242479</td>\n",
       "      <td>3.25</td>\n",
       "    </tr>\n",
       "    <tr>\n",
       "      <th>3</th>\n",
       "      <td>7.42</td>\n",
       "      <td>0.984736</td>\n",
       "      <td>3.67</td>\n",
       "    </tr>\n",
       "    <tr>\n",
       "      <th>4</th>\n",
       "      <td>6.94</td>\n",
       "      <td>0.363998</td>\n",
       "      <td>3.57</td>\n",
       "    </tr>\n",
       "    <tr>\n",
       "      <th>...</th>\n",
       "      <td>...</td>\n",
       "      <td>...</td>\n",
       "      <td>...</td>\n",
       "    </tr>\n",
       "    <tr>\n",
       "      <th>195</th>\n",
       "      <td>6.93</td>\n",
       "      <td>0.376337</td>\n",
       "      <td>2.46</td>\n",
       "    </tr>\n",
       "    <tr>\n",
       "      <th>196</th>\n",
       "      <td>5.89</td>\n",
       "      <td>0.565344</td>\n",
       "      <td>2.57</td>\n",
       "    </tr>\n",
       "    <tr>\n",
       "      <th>197</th>\n",
       "      <td>7.21</td>\n",
       "      <td>0.215310</td>\n",
       "      <td>3.24</td>\n",
       "    </tr>\n",
       "    <tr>\n",
       "      <th>198</th>\n",
       "      <td>7.63</td>\n",
       "      <td>0.718704</td>\n",
       "      <td>3.96</td>\n",
       "    </tr>\n",
       "    <tr>\n",
       "      <th>199</th>\n",
       "      <td>6.22</td>\n",
       "      <td>0.782628</td>\n",
       "      <td>2.33</td>\n",
       "    </tr>\n",
       "  </tbody>\n",
       "</table>\n",
       "<p>200 rows × 3 columns</p>\n",
       "</div>"
      ],
      "text/plain": [
       "     cgpa  random_features  package\n",
       "0    6.89         0.342131     3.26\n",
       "1    5.12         0.251278     1.98\n",
       "2    7.82         0.242479     3.25\n",
       "3    7.42         0.984736     3.67\n",
       "4    6.94         0.363998     3.57\n",
       "..    ...              ...      ...\n",
       "195  6.93         0.376337     2.46\n",
       "196  5.89         0.565344     2.57\n",
       "197  7.21         0.215310     3.24\n",
       "198  7.63         0.718704     3.96\n",
       "199  6.22         0.782628     2.33\n",
       "\n",
       "[200 rows x 3 columns]"
      ]
     },
     "execution_count": 64,
     "metadata": {},
     "output_type": "execute_result"
    }
   ],
   "source": [
    "new_df"
   ]
  },
  {
   "cell_type": "code",
   "execution_count": 67,
   "id": "e894bd0c",
   "metadata": {},
   "outputs": [],
   "source": [
    "X = new_df.iloc[:,0:2].values\n",
    "y = new_df.iloc[:,-1].values"
   ]
  },
  {
   "cell_type": "code",
   "execution_count": 68,
   "id": "9f5e39cc",
   "metadata": {},
   "outputs": [
    {
     "data": {
      "image/png": "[encoded data removed]",
      "text/plain": [
       "<Figure size 432x288 with 1 Axes>"
      ]
     },
     "metadata": {
      "needs_background": "light"
     },
     "output_type": "display_data"
    }
   ],
   "source": [
    "plt.scatter(new_df[\"random_features\"],new_df[\"package\"])\n",
    "plt.xlabel(\"cgpa\")\n",
    "plt.ylabel(\"package\")\n",
    "plt.show()"
   ]
  },
  {
   "cell_type": "code",
   "execution_count": 69,
   "id": "b0a34479",
   "metadata": {},
   "outputs": [],
   "source": [
    "from sklearn.model_selection import train_test_split\n",
    "X_train,X_test,y_train,y_test = train_test_split(X,y,test_size=0.2,random_state=2)"
   ]
  },
  {
   "cell_type": "code",
   "execution_count": 70,
   "id": "e4484df7",
   "metadata": {},
   "outputs": [],
   "source": [
    "from sklearn.linear_model import LinearRegression"
   ]
  },
  {
   "cell_type": "code",
   "execution_count": 71,
   "id": "776b21f3",
   "metadata": {},
   "outputs": [],
   "source": [
    "lr = LinearRegression()"
   ]
  },
  {
   "cell_type": "code",
   "execution_count": 72,
   "id": "f22e32bb",
   "metadata": {},
   "outputs": [
    {
     "data": {
      "text/plain": [
       "LinearRegression()"
      ]
     },
     "execution_count": 72,
     "metadata": {},
     "output_type": "execute_result"
    }
   ],
   "source": [
    "lr.fit(X_train,y_train)"
   ]
  },
  {
   "cell_type": "code",
   "execution_count": 74,
   "id": "2ab00e44",
   "metadata": {},
   "outputs": [],
   "source": [
    "y_pred = lr.predict(X_test)"
   ]
  },
  {
   "cell_type": "code",
   "execution_count": 82,
   "id": "e63d2811",
   "metadata": {},
   "outputs": [
    {
     "name": "stdout",
     "output_type": "stream",
     "text": [
      "R2 score :  0.7748091811340778\n"
     ]
    }
   ],
   "source": [
    "print(\"R2 score : \", r2_score(y_test,y_pred))\n",
    "r2 = r2_score(y_test,y_pred)"
   ]
  },
  {
   "cell_type": "code",
   "execution_count": 83,
   "id": "be732929",
   "metadata": {},
   "outputs": [
    {
     "data": {
      "text/plain": [
       "0.7688831069533957"
      ]
     },
     "execution_count": 83,
     "metadata": {},
     "output_type": "execute_result"
    }
   ],
   "source": [
    "1-((1-r2)*(40-1)/(40-1-1))"
   ]
  },
  {
   "cell_type": "code",
   "execution_count": 91,
   "id": "a0281d95",
   "metadata": {},
   "outputs": [
    {
     "name": "stderr",
     "output_type": "stream",
     "text": [
      "C:\\Users\\himan\\AppData\\Local\\Temp\\ipykernel_2596\\2191450221.py:1: SettingWithCopyWarning: \n",
      "A value is trying to be set on a copy of a slice from a DataFrame.\n",
      "Try using .loc[row_indexer,col_indexer] = value instead\n",
      "\n",
      "See the caveats in the documentation: https://pandas.pydata.org/pandas-docs/stable/user_guide/indexing.html#returning-a-view-versus-a-copy\n",
      "  new_df[\"iq\"] = new_df[\"package\"] + (np.random.randint(-12,12,200)/10)\n"
     ]
    }
   ],
   "source": [
    "new_df[\"iq\"] = new_df[\"package\"] + (np.random.randint(-12,12,200)/10)"
   ]
  },
  {
   "cell_type": "code",
   "execution_count": 92,
   "id": "ab2b9862",
   "metadata": {},
   "outputs": [
    {
     "data": {
      "text/html": [
       "<div>\n",
       "<style scoped>\n",
       "    .dataframe tbody tr th:only-of-type {\n",
       "        vertical-align: middle;\n",
       "    }\n",
       "\n",
       "    .dataframe tbody tr th {\n",
       "        vertical-align: top;\n",
       "    }\n",
       "\n",
       "    .dataframe thead th {\n",
       "        text-align: right;\n",
       "    }\n",
       "</style>\n",
       "<table border=\"1\" class=\"dataframe\">\n",
       "  <thead>\n",
       "    <tr style=\"text-align: right;\">\n",
       "      <th></th>\n",
       "      <th>cgpa</th>\n",
       "      <th>iq</th>\n",
       "      <th>package</th>\n",
       "    </tr>\n",
       "  </thead>\n",
       "  <tbody>\n",
       "    <tr>\n",
       "      <th>0</th>\n",
       "      <td>6.89</td>\n",
       "      <td>4.36</td>\n",
       "      <td>3.26</td>\n",
       "    </tr>\n",
       "    <tr>\n",
       "      <th>1</th>\n",
       "      <td>5.12</td>\n",
       "      <td>2.98</td>\n",
       "      <td>1.98</td>\n",
       "    </tr>\n",
       "    <tr>\n",
       "      <th>2</th>\n",
       "      <td>7.82</td>\n",
       "      <td>3.15</td>\n",
       "      <td>3.25</td>\n",
       "    </tr>\n",
       "    <tr>\n",
       "      <th>3</th>\n",
       "      <td>7.42</td>\n",
       "      <td>4.77</td>\n",
       "      <td>3.67</td>\n",
       "    </tr>\n",
       "    <tr>\n",
       "      <th>4</th>\n",
       "      <td>6.94</td>\n",
       "      <td>2.37</td>\n",
       "      <td>3.57</td>\n",
       "    </tr>\n",
       "    <tr>\n",
       "      <th>...</th>\n",
       "      <td>...</td>\n",
       "      <td>...</td>\n",
       "      <td>...</td>\n",
       "    </tr>\n",
       "    <tr>\n",
       "      <th>195</th>\n",
       "      <td>6.93</td>\n",
       "      <td>2.46</td>\n",
       "      <td>2.46</td>\n",
       "    </tr>\n",
       "    <tr>\n",
       "      <th>196</th>\n",
       "      <td>5.89</td>\n",
       "      <td>3.37</td>\n",
       "      <td>2.57</td>\n",
       "    </tr>\n",
       "    <tr>\n",
       "      <th>197</th>\n",
       "      <td>7.21</td>\n",
       "      <td>2.34</td>\n",
       "      <td>3.24</td>\n",
       "    </tr>\n",
       "    <tr>\n",
       "      <th>198</th>\n",
       "      <td>7.63</td>\n",
       "      <td>4.36</td>\n",
       "      <td>3.96</td>\n",
       "    </tr>\n",
       "    <tr>\n",
       "      <th>199</th>\n",
       "      <td>6.22</td>\n",
       "      <td>2.93</td>\n",
       "      <td>2.33</td>\n",
       "    </tr>\n",
       "  </tbody>\n",
       "</table>\n",
       "<p>200 rows × 3 columns</p>\n",
       "</div>"
      ],
      "text/plain": [
       "     cgpa    iq  package\n",
       "0    6.89  4.36     3.26\n",
       "1    5.12  2.98     1.98\n",
       "2    7.82  3.15     3.25\n",
       "3    7.42  4.77     3.67\n",
       "4    6.94  2.37     3.57\n",
       "..    ...   ...      ...\n",
       "195  6.93  2.46     2.46\n",
       "196  5.89  3.37     2.57\n",
       "197  7.21  2.34     3.24\n",
       "198  7.63  4.36     3.96\n",
       "199  6.22  2.93     2.33\n",
       "\n",
       "[200 rows x 3 columns]"
      ]
     },
     "execution_count": 92,
     "metadata": {},
     "output_type": "execute_result"
    }
   ],
   "source": [
    "new_df"
   ]
  },
  {
   "cell_type": "code",
   "execution_count": 93,
   "id": "b9f1c560",
   "metadata": {},
   "outputs": [],
   "source": [
    "new_df=new_df[[\"cgpa\",\"iq\",\"package\"]]"
   ]
  },
  {
   "cell_type": "code",
   "execution_count": 94,
   "id": "6d79342f",
   "metadata": {},
   "outputs": [
    {
     "data": {
      "text/html": [
       "<div>\n",
       "<style scoped>\n",
       "    .dataframe tbody tr th:only-of-type {\n",
       "        vertical-align: middle;\n",
       "    }\n",
       "\n",
       "    .dataframe tbody tr th {\n",
       "        vertical-align: top;\n",
       "    }\n",
       "\n",
       "    .dataframe thead th {\n",
       "        text-align: right;\n",
       "    }\n",
       "</style>\n",
       "<table border=\"1\" class=\"dataframe\">\n",
       "  <thead>\n",
       "    <tr style=\"text-align: right;\">\n",
       "      <th></th>\n",
       "      <th>cgpa</th>\n",
       "      <th>iq</th>\n",
       "      <th>package</th>\n",
       "    </tr>\n",
       "  </thead>\n",
       "  <tbody>\n",
       "    <tr>\n",
       "      <th>0</th>\n",
       "      <td>6.89</td>\n",
       "      <td>4.36</td>\n",
       "      <td>3.26</td>\n",
       "    </tr>\n",
       "    <tr>\n",
       "      <th>1</th>\n",
       "      <td>5.12</td>\n",
       "      <td>2.98</td>\n",
       "      <td>1.98</td>\n",
       "    </tr>\n",
       "    <tr>\n",
       "      <th>2</th>\n",
       "      <td>7.82</td>\n",
       "      <td>3.15</td>\n",
       "      <td>3.25</td>\n",
       "    </tr>\n",
       "    <tr>\n",
       "      <th>3</th>\n",
       "      <td>7.42</td>\n",
       "      <td>4.77</td>\n",
       "      <td>3.67</td>\n",
       "    </tr>\n",
       "    <tr>\n",
       "      <th>4</th>\n",
       "      <td>6.94</td>\n",
       "      <td>2.37</td>\n",
       "      <td>3.57</td>\n",
       "    </tr>\n",
       "    <tr>\n",
       "      <th>...</th>\n",
       "      <td>...</td>\n",
       "      <td>...</td>\n",
       "      <td>...</td>\n",
       "    </tr>\n",
       "    <tr>\n",
       "      <th>195</th>\n",
       "      <td>6.93</td>\n",
       "      <td>2.46</td>\n",
       "      <td>2.46</td>\n",
       "    </tr>\n",
       "    <tr>\n",
       "      <th>196</th>\n",
       "      <td>5.89</td>\n",
       "      <td>3.37</td>\n",
       "      <td>2.57</td>\n",
       "    </tr>\n",
       "    <tr>\n",
       "      <th>197</th>\n",
       "      <td>7.21</td>\n",
       "      <td>2.34</td>\n",
       "      <td>3.24</td>\n",
       "    </tr>\n",
       "    <tr>\n",
       "      <th>198</th>\n",
       "      <td>7.63</td>\n",
       "      <td>4.36</td>\n",
       "      <td>3.96</td>\n",
       "    </tr>\n",
       "    <tr>\n",
       "      <th>199</th>\n",
       "      <td>6.22</td>\n",
       "      <td>2.93</td>\n",
       "      <td>2.33</td>\n",
       "    </tr>\n",
       "  </tbody>\n",
       "</table>\n",
       "<p>200 rows × 3 columns</p>\n",
       "</div>"
      ],
      "text/plain": [
       "     cgpa    iq  package\n",
       "0    6.89  4.36     3.26\n",
       "1    5.12  2.98     1.98\n",
       "2    7.82  3.15     3.25\n",
       "3    7.42  4.77     3.67\n",
       "4    6.94  2.37     3.57\n",
       "..    ...   ...      ...\n",
       "195  6.93  2.46     2.46\n",
       "196  5.89  3.37     2.57\n",
       "197  7.21  2.34     3.24\n",
       "198  7.63  4.36     3.96\n",
       "199  6.22  2.93     2.33\n",
       "\n",
       "[200 rows x 3 columns]"
      ]
     },
     "execution_count": 94,
     "metadata": {},
     "output_type": "execute_result"
    }
   ],
   "source": [
    "new_df"
   ]
  },
  {
   "cell_type": "code",
   "execution_count": 95,
   "id": "214e99c2",
   "metadata": {},
   "outputs": [
    {
     "data": {
      "image/png": "[encoded data removed]",
      "text/plain": [
       "<Figure size 432x288 with 1 Axes>"
      ]
     },
     "metadata": {
      "needs_background": "light"
     },
     "output_type": "display_data"
    }
   ],
   "source": [
    "plt.scatter(new_df[\"iq\"],new_df[\"package\"])\n",
    "plt.xlabel(\"cgpa\")\n",
    "plt.ylabel(\"package\")\n",
    "plt.show()"
   ]
  },
  {
   "cell_type": "code",
   "execution_count": 97,
   "id": "a2c7661a",
   "metadata": {},
   "outputs": [],
   "source": [
    "X = new_df.iloc[:,0:2].values\n",
    "y = new_df.iloc[:,-1].values"
   ]
  },
  {
   "cell_type": "code",
   "execution_count": 98,
   "id": "b0e0f452",
   "metadata": {},
   "outputs": [],
   "source": [
    "from sklearn.model_selection import train_test_split\n",
    "X_train,X_test,y_train,y_test = train_test_split(X,y,test_size=0.2,random_state=2)"
   ]
  },
  {
   "cell_type": "code",
   "execution_count": 99,
   "id": "d1d8a2e6",
   "metadata": {},
   "outputs": [],
   "source": [
    "lr = LinearRegression()"
   ]
  },
  {
   "cell_type": "code",
   "execution_count": 101,
   "id": "d6180a69",
   "metadata": {},
   "outputs": [
    {
     "data": {
      "text/plain": [
       "LinearRegression()"
      ]
     },
     "execution_count": 101,
     "metadata": {},
     "output_type": "execute_result"
    }
   ],
   "source": [
    "lr.fit(X_train,y_train)"
   ]
  },
  {
   "cell_type": "code",
   "execution_count": 102,
   "id": "fc81b0b2",
   "metadata": {},
   "outputs": [],
   "source": [
    "y_pred = lr.predict(X_test)"
   ]
  },
  {
   "cell_type": "code",
   "execution_count": 104,
   "id": "f136b997",
   "metadata": {},
   "outputs": [
    {
     "name": "stdout",
     "output_type": "stream",
     "text": [
      "R2 score :  0.8327073819255104\n"
     ]
    }
   ],
   "source": [
    "print(\"R2 score : \", r2_score(y_test,y_pred))\n",
    "r2 = r2_score(y_test,y_pred)"
   ]
  },
  {
   "cell_type": "code",
   "execution_count": 107,
   "id": "796beaf6",
   "metadata": {},
   "outputs": [
    {
     "data": {
      "text/plain": [
       "0.8236645377052677"
      ]
     },
     "execution_count": 107,
     "metadata": {},
     "output_type": "execute_result"
    }
   ],
   "source": [
    "1-((1-r2)*(40-1)/(40-1-2))\n"
   ]
  },
  {
   "cell_type": "code",
   "execution_count": null,
   "id": "72fb5c4e",
   "metadata": {},
   "outputs": [],
   "source": []
  }
 ],
 "metadata": {
  "kernelspec": {
   "display_name": "Python 3 (ipykernel)",
   "language": "python",
   "name": "python3"
  },
  "language_info": {
   "codemirror_mode": {
    "name": "ipython",
    "version": 3
   },
   "file_extension": ".py",
   "mimetype": "text/x-python",
   "name": "python",
   "nbconvert_exporter": "python",
   "pygments_lexer": "ipython3",
   "version": "3.9.12"
  }
 },
 "nbformat": 4,
 "nbformat_minor": 5
}
