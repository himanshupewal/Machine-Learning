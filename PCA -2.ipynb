{
 "cells": [
  {
   "cell_type": "code",
   "execution_count": 22,
   "metadata": {},
   "outputs": [],
   "source": [
    "import pandas as pd\n",
    "import numpy as np\n",
    "df = pd.read_csv(\"C:/Users/himan/Downloads/digit-recognizer/train.csv\")\n",
    "import matplotlib.pyplot as plt\n"
   ]
  },
  {
   "cell_type": "code",
   "execution_count": 23,
   "metadata": {},
   "outputs": [
    {
     "data": {
      "text/html": [
       "<div>\n",
       "<style scoped>\n",
       "    .dataframe tbody tr th:only-of-type {\n",
       "        vertical-align: middle;\n",
       "    }\n",
       "\n",
       "    .dataframe tbody tr th {\n",
       "        vertical-align: top;\n",
       "    }\n",
       "\n",
       "    .dataframe thead th {\n",
       "        text-align: right;\n",
       "    }\n",
       "</style>\n",
       "<table border=\"1\" class=\"dataframe\">\n",
       "  <thead>\n",
       "    <tr style=\"text-align: right;\">\n",
       "      <th></th>\n",
       "      <th>label</th>\n",
       "      <th>pixel0</th>\n",
       "      <th>pixel1</th>\n",
       "      <th>pixel2</th>\n",
       "      <th>pixel3</th>\n",
       "      <th>pixel4</th>\n",
       "      <th>pixel5</th>\n",
       "      <th>pixel6</th>\n",
       "      <th>pixel7</th>\n",
       "      <th>pixel8</th>\n",
       "      <th>...</th>\n",
       "      <th>pixel774</th>\n",
       "      <th>pixel775</th>\n",
       "      <th>pixel776</th>\n",
       "      <th>pixel777</th>\n",
       "      <th>pixel778</th>\n",
       "      <th>pixel779</th>\n",
       "      <th>pixel780</th>\n",
       "      <th>pixel781</th>\n",
       "      <th>pixel782</th>\n",
       "      <th>pixel783</th>\n",
       "    </tr>\n",
       "  </thead>\n",
       "  <tbody>\n",
       "    <tr>\n",
       "      <th>0</th>\n",
       "      <td>1</td>\n",
       "      <td>0</td>\n",
       "      <td>0</td>\n",
       "      <td>0</td>\n",
       "      <td>0</td>\n",
       "      <td>0</td>\n",
       "      <td>0</td>\n",
       "      <td>0</td>\n",
       "      <td>0</td>\n",
       "      <td>0</td>\n",
       "      <td>...</td>\n",
       "      <td>0</td>\n",
       "      <td>0</td>\n",
       "      <td>0</td>\n",
       "      <td>0</td>\n",
       "      <td>0</td>\n",
       "      <td>0</td>\n",
       "      <td>0</td>\n",
       "      <td>0</td>\n",
       "      <td>0</td>\n",
       "      <td>0</td>\n",
       "    </tr>\n",
       "    <tr>\n",
       "      <th>1</th>\n",
       "      <td>0</td>\n",
       "      <td>0</td>\n",
       "      <td>0</td>\n",
       "      <td>0</td>\n",
       "      <td>0</td>\n",
       "      <td>0</td>\n",
       "      <td>0</td>\n",
       "      <td>0</td>\n",
       "      <td>0</td>\n",
       "      <td>0</td>\n",
       "      <td>...</td>\n",
       "      <td>0</td>\n",
       "      <td>0</td>\n",
       "      <td>0</td>\n",
       "      <td>0</td>\n",
       "      <td>0</td>\n",
       "      <td>0</td>\n",
       "      <td>0</td>\n",
       "      <td>0</td>\n",
       "      <td>0</td>\n",
       "      <td>0</td>\n",
       "    </tr>\n",
       "    <tr>\n",
       "      <th>2</th>\n",
       "      <td>1</td>\n",
       "      <td>0</td>\n",
       "      <td>0</td>\n",
       "      <td>0</td>\n",
       "      <td>0</td>\n",
       "      <td>0</td>\n",
       "      <td>0</td>\n",
       "      <td>0</td>\n",
       "      <td>0</td>\n",
       "      <td>0</td>\n",
       "      <td>...</td>\n",
       "      <td>0</td>\n",
       "      <td>0</td>\n",
       "      <td>0</td>\n",
       "      <td>0</td>\n",
       "      <td>0</td>\n",
       "      <td>0</td>\n",
       "      <td>0</td>\n",
       "      <td>0</td>\n",
       "      <td>0</td>\n",
       "      <td>0</td>\n",
       "    </tr>\n",
       "    <tr>\n",
       "      <th>3</th>\n",
       "      <td>4</td>\n",
       "      <td>0</td>\n",
       "      <td>0</td>\n",
       "      <td>0</td>\n",
       "      <td>0</td>\n",
       "      <td>0</td>\n",
       "      <td>0</td>\n",
       "      <td>0</td>\n",
       "      <td>0</td>\n",
       "      <td>0</td>\n",
       "      <td>...</td>\n",
       "      <td>0</td>\n",
       "      <td>0</td>\n",
       "      <td>0</td>\n",
       "      <td>0</td>\n",
       "      <td>0</td>\n",
       "      <td>0</td>\n",
       "      <td>0</td>\n",
       "      <td>0</td>\n",
       "      <td>0</td>\n",
       "      <td>0</td>\n",
       "    </tr>\n",
       "    <tr>\n",
       "      <th>4</th>\n",
       "      <td>0</td>\n",
       "      <td>0</td>\n",
       "      <td>0</td>\n",
       "      <td>0</td>\n",
       "      <td>0</td>\n",
       "      <td>0</td>\n",
       "      <td>0</td>\n",
       "      <td>0</td>\n",
       "      <td>0</td>\n",
       "      <td>0</td>\n",
       "      <td>...</td>\n",
       "      <td>0</td>\n",
       "      <td>0</td>\n",
       "      <td>0</td>\n",
       "      <td>0</td>\n",
       "      <td>0</td>\n",
       "      <td>0</td>\n",
       "      <td>0</td>\n",
       "      <td>0</td>\n",
       "      <td>0</td>\n",
       "      <td>0</td>\n",
       "    </tr>\n",
       "  </tbody>\n",
       "</table>\n",
       "<p>5 rows × 785 columns</p>\n",
       "</div>"
      ],
      "text/plain": [
       "   label  pixel0  pixel1  pixel2  pixel3  pixel4  pixel5  pixel6  pixel7  \\\n",
       "0      1       0       0       0       0       0       0       0       0   \n",
       "1      0       0       0       0       0       0       0       0       0   \n",
       "2      1       0       0       0       0       0       0       0       0   \n",
       "3      4       0       0       0       0       0       0       0       0   \n",
       "4      0       0       0       0       0       0       0       0       0   \n",
       "\n",
       "   pixel8  ...  pixel774  pixel775  pixel776  pixel777  pixel778  pixel779  \\\n",
       "0       0  ...         0         0         0         0         0         0   \n",
       "1       0  ...         0         0         0         0         0         0   \n",
       "2       0  ...         0         0         0         0         0         0   \n",
       "3       0  ...         0         0         0         0         0         0   \n",
       "4       0  ...         0         0         0         0         0         0   \n",
       "\n",
       "   pixel780  pixel781  pixel782  pixel783  \n",
       "0         0         0         0         0  \n",
       "1         0         0         0         0  \n",
       "2         0         0         0         0  \n",
       "3         0         0         0         0  \n",
       "4         0         0         0         0  \n",
       "\n",
       "[5 rows x 785 columns]"
      ]
     },
     "execution_count": 23,
     "metadata": {},
     "output_type": "execute_result"
    }
   ],
   "source": [
    "df.head()  ## one col for each pixel"
   ]
  },
  {
   "cell_type": "code",
   "execution_count": null,
   "metadata": {},
   "outputs": [],
   "source": []
  },
  {
   "cell_type": "code",
   "execution_count": 24,
   "metadata": {},
   "outputs": [
    {
     "data": {
      "text/plain": [
       "<matplotlib.image.AxesImage at 0x1f9f2cf8610>"
      ]
     },
     "execution_count": 24,
     "metadata": {},
     "output_type": "execute_result"
    },
    {
     "data": {
      "image/png": "[encoded data removed]",
      "text/plain": [
       "<Figure size 640x480 with 1 Axes>"
      ]
     },
     "metadata": {},
     "output_type": "display_data"
    }
   ],
   "source": [
    "plt.imshow(df.iloc[23514,1:].values.reshape(28,28))"
   ]
  },
  {
   "cell_type": "code",
   "execution_count": 25,
   "metadata": {},
   "outputs": [],
   "source": [
    "X = df.iloc[:,1:]\n",
    "y = df.iloc[:,0]"
   ]
  },
  {
   "cell_type": "code",
   "execution_count": 26,
   "metadata": {},
   "outputs": [],
   "source": [
    "from sklearn.model_selection import train_test_split\n",
    "X_train,X_test,y_train,y_test = train_test_split(X,y,test_size=0.2,random_state=42)"
   ]
  },
  {
   "cell_type": "code",
   "execution_count": 27,
   "metadata": {},
   "outputs": [
    {
     "data": {
      "text/plain": [
       "((33600, 784), (8400, 784))"
      ]
     },
     "execution_count": 27,
     "metadata": {},
     "output_type": "execute_result"
    }
   ],
   "source": [
    "X_train.shape,X_test.shape"
   ]
  },
  {
   "cell_type": "code",
   "execution_count": 28,
   "metadata": {},
   "outputs": [
    {
     "data": {
      "text/html": [
       "<style>#sk-container-id-3 {color: black;background-color: white;}#sk-container-id-3 pre{padding: 0;}#sk-container-id-3 div.sk-toggleable {background-color: white;}#sk-container-id-3 label.sk-toggleable__label {cursor: pointer;display: block;width: 100%;margin-bottom: 0;padding: 0.3em;box-sizing: border-box;text-align: center;}#sk-container-id-3 label.sk-toggleable__label-arrow:before {content: \"▸\";float: left;margin-right: 0.25em;color: #696969;}#sk-container-id-3 label.sk-toggleable__label-arrow:hover:before {color: black;}#sk-container-id-3 div.sk-estimator:hover label.sk-toggleable__label-arrow:before {color: black;}#sk-container-id-3 div.sk-toggleable__content {max-height: 0;max-width: 0;overflow: hidden;text-align: left;background-color: #f0f8ff;}#sk-container-id-3 div.sk-toggleable__content pre {margin: 0.2em;color: black;border-radius: 0.25em;background-color: #f0f8ff;}#sk-container-id-3 input.sk-toggleable__control:checked~div.sk-toggleable__content {max-height: 200px;max-width: 100%;overflow: auto;}#sk-container-id-3 input.sk-toggleable__control:checked~label.sk-toggleable__label-arrow:before {content: \"▾\";}#sk-container-id-3 div.sk-estimator input.sk-toggleable__control:checked~label.sk-toggleable__label {background-color: #d4ebff;}#sk-container-id-3 div.sk-label input.sk-toggleable__control:checked~label.sk-toggleable__label {background-color: #d4ebff;}#sk-container-id-3 input.sk-hidden--visually {border: 0;clip: rect(1px 1px 1px 1px);clip: rect(1px, 1px, 1px, 1px);height: 1px;margin: -1px;overflow: hidden;padding: 0;position: absolute;width: 1px;}#sk-container-id-3 div.sk-estimator {font-family: monospace;background-color: #f0f8ff;border: 1px dotted black;border-radius: 0.25em;box-sizing: border-box;margin-bottom: 0.5em;}#sk-container-id-3 div.sk-estimator:hover {background-color: #d4ebff;}#sk-container-id-3 div.sk-parallel-item::after {content: \"\";width: 100%;border-bottom: 1px solid gray;flex-grow: 1;}#sk-container-id-3 div.sk-label:hover label.sk-toggleable__label {background-color: #d4ebff;}#sk-container-id-3 div.sk-serial::before {content: \"\";position: absolute;border-left: 1px solid gray;box-sizing: border-box;top: 0;bottom: 0;left: 50%;z-index: 0;}#sk-container-id-3 div.sk-serial {display: flex;flex-direction: column;align-items: center;background-color: white;padding-right: 0.2em;padding-left: 0.2em;position: relative;}#sk-container-id-3 div.sk-item {position: relative;z-index: 1;}#sk-container-id-3 div.sk-parallel {display: flex;align-items: stretch;justify-content: center;background-color: white;position: relative;}#sk-container-id-3 div.sk-item::before, #sk-container-id-3 div.sk-parallel-item::before {content: \"\";position: absolute;border-left: 1px solid gray;box-sizing: border-box;top: 0;bottom: 0;left: 50%;z-index: -1;}#sk-container-id-3 div.sk-parallel-item {display: flex;flex-direction: column;z-index: 1;position: relative;background-color: white;}#sk-container-id-3 div.sk-parallel-item:first-child::after {align-self: flex-end;width: 50%;}#sk-container-id-3 div.sk-parallel-item:last-child::after {align-self: flex-start;width: 50%;}#sk-container-id-3 div.sk-parallel-item:only-child::after {width: 0;}#sk-container-id-3 div.sk-dashed-wrapped {border: 1px dashed gray;margin: 0 0.4em 0.5em 0.4em;box-sizing: border-box;padding-bottom: 0.4em;background-color: white;}#sk-container-id-3 div.sk-label label {font-family: monospace;font-weight: bold;display: inline-block;line-height: 1.2em;}#sk-container-id-3 div.sk-label-container {text-align: center;}#sk-container-id-3 div.sk-container {/* jupyter's `normalize.less` sets `[hidden] { display: none; }` but bootstrap.min.css set `[hidden] { display: none !important; }` so we also need the `!important` here to be able to override the default hidden behavior on the sphinx rendered scikit-learn.org. See: https://github.com/scikit-learn/scikit-learn/issues/21755 */display: inline-block !important;position: relative;}#sk-container-id-3 div.sk-text-repr-fallback {display: none;}</style><div id=\"sk-container-id-3\" class=\"sk-top-container\"><div class=\"sk-text-repr-fallback\"><pre>KNeighborsClassifier()</pre><b>In a Jupyter environment, please rerun this cell to show the HTML representation or trust the notebook. <br />On GitHub, the HTML representation is unable to render, please try loading this page with nbviewer.org.</b></div><div class=\"sk-container\" hidden><div class=\"sk-item\"><div class=\"sk-estimator sk-toggleable\"><input class=\"sk-toggleable__control sk-hidden--visually\" id=\"sk-estimator-id-3\" type=\"checkbox\" checked><label for=\"sk-estimator-id-3\" class=\"sk-toggleable__label sk-toggleable__label-arrow\">KNeighborsClassifier</label><div class=\"sk-toggleable__content\"><pre>KNeighborsClassifier()</pre></div></div></div></div></div>"
      ],
      "text/plain": [
       "KNeighborsClassifier()"
      ]
     },
     "execution_count": 28,
     "metadata": {},
     "output_type": "execute_result"
    }
   ],
   "source": [
    "from sklearn.neighbors import KNeighborsClassifier\n",
    "knn = KNeighborsClassifier()\n",
    "\n",
    "knn.fit(X_train,y_train)"
   ]
  },
  {
   "cell_type": "code",
   "execution_count": 29,
   "metadata": {},
   "outputs": [],
   "source": [
    "\n",
    "y_pred= knn.predict(X_test)\n"
   ]
  },
  {
   "cell_type": "code",
   "execution_count": 30,
   "metadata": {},
   "outputs": [
    {
     "data": {
      "text/plain": [
       "0.9648809523809524"
      ]
     },
     "execution_count": 30,
     "metadata": {},
     "output_type": "execute_result"
    }
   ],
   "source": [
    "from sklearn.metrics import accuracy_score\n",
    "accuracy_score(y_test,y_pred)"
   ]
  },
  {
   "cell_type": "code",
   "execution_count": 31,
   "metadata": {},
   "outputs": [],
   "source": [
    "# Try PCA "
   ]
  },
  {
   "cell_type": "code",
   "execution_count": 32,
   "metadata": {},
   "outputs": [],
   "source": [
    "from sklearn.preprocessing import  StandardScaler\n",
    "scaler = StandardScaler()\n"
   ]
  },
  {
   "cell_type": "code",
   "execution_count": 33,
   "metadata": {},
   "outputs": [],
   "source": [
    "\n",
    "X_train = scaler.fit_transform(X_train)\n",
    "X_test  = scaler.transform(X_test)"
   ]
  },
  {
   "cell_type": "code",
   "execution_count": 34,
   "metadata": {},
   "outputs": [],
   "source": [
    "from sklearn.decomposition import PCA\n",
    "pca = PCA(n_components=None)"
   ]
  },
  {
   "cell_type": "code",
   "execution_count": 35,
   "metadata": {},
   "outputs": [],
   "source": [
    "X_train = pca.fit_transform(X_train)\n",
    "X_test= pca.transform(X_test)"
   ]
  },
  {
   "cell_type": "code",
   "execution_count": 36,
   "metadata": {},
   "outputs": [
    {
     "data": {
      "text/plain": [
       "((33600, 784), (8400, 784))"
      ]
     },
     "execution_count": 36,
     "metadata": {},
     "output_type": "execute_result"
    }
   ],
   "source": [
    "X_train.shape,X_test.shape"
   ]
  },
  {
   "cell_type": "code",
   "execution_count": 45,
   "metadata": {},
   "outputs": [],
   "source": [
    "from sklearn.decomposition import PCA\n",
    "pca = PCA(n_components=100)"
   ]
  },
  {
   "cell_type": "code",
   "execution_count": 46,
   "metadata": {},
   "outputs": [],
   "source": [
    "X_train_trf = pca.fit_transform(X_train)\n",
    "X_test_trf = pca.transform(X_test)"
   ]
  },
  {
   "cell_type": "code",
   "execution_count": 47,
   "metadata": {},
   "outputs": [
    {
     "data": {
      "text/plain": [
       "((33600, 100), (8400, 100))"
      ]
     },
     "execution_count": 47,
     "metadata": {},
     "output_type": "execute_result"
    }
   ],
   "source": [
    "X_train_trf.shape,X_test_trf.shape"
   ]
  },
  {
   "cell_type": "code",
   "execution_count": 48,
   "metadata": {},
   "outputs": [
    {
     "data": {
      "text/html": [
       "<style>#sk-container-id-5 {color: black;background-color: white;}#sk-container-id-5 pre{padding: 0;}#sk-container-id-5 div.sk-toggleable {background-color: white;}#sk-container-id-5 label.sk-toggleable__label {cursor: pointer;display: block;width: 100%;margin-bottom: 0;padding: 0.3em;box-sizing: border-box;text-align: center;}#sk-container-id-5 label.sk-toggleable__label-arrow:before {content: \"▸\";float: left;margin-right: 0.25em;color: #696969;}#sk-container-id-5 label.sk-toggleable__label-arrow:hover:before {color: black;}#sk-container-id-5 div.sk-estimator:hover label.sk-toggleable__label-arrow:before {color: black;}#sk-container-id-5 div.sk-toggleable__content {max-height: 0;max-width: 0;overflow: hidden;text-align: left;background-color: #f0f8ff;}#sk-container-id-5 div.sk-toggleable__content pre {margin: 0.2em;color: black;border-radius: 0.25em;background-color: #f0f8ff;}#sk-container-id-5 input.sk-toggleable__control:checked~div.sk-toggleable__content {max-height: 200px;max-width: 100%;overflow: auto;}#sk-container-id-5 input.sk-toggleable__control:checked~label.sk-toggleable__label-arrow:before {content: \"▾\";}#sk-container-id-5 div.sk-estimator input.sk-toggleable__control:checked~label.sk-toggleable__label {background-color: #d4ebff;}#sk-container-id-5 div.sk-label input.sk-toggleable__control:checked~label.sk-toggleable__label {background-color: #d4ebff;}#sk-container-id-5 input.sk-hidden--visually {border: 0;clip: rect(1px 1px 1px 1px);clip: rect(1px, 1px, 1px, 1px);height: 1px;margin: -1px;overflow: hidden;padding: 0;position: absolute;width: 1px;}#sk-container-id-5 div.sk-estimator {font-family: monospace;background-color: #f0f8ff;border: 1px dotted black;border-radius: 0.25em;box-sizing: border-box;margin-bottom: 0.5em;}#sk-container-id-5 div.sk-estimator:hover {background-color: #d4ebff;}#sk-container-id-5 div.sk-parallel-item::after {content: \"\";width: 100%;border-bottom: 1px solid gray;flex-grow: 1;}#sk-container-id-5 div.sk-label:hover label.sk-toggleable__label {background-color: #d4ebff;}#sk-container-id-5 div.sk-serial::before {content: \"\";position: absolute;border-left: 1px solid gray;box-sizing: border-box;top: 0;bottom: 0;left: 50%;z-index: 0;}#sk-container-id-5 div.sk-serial {display: flex;flex-direction: column;align-items: center;background-color: white;padding-right: 0.2em;padding-left: 0.2em;position: relative;}#sk-container-id-5 div.sk-item {position: relative;z-index: 1;}#sk-container-id-5 div.sk-parallel {display: flex;align-items: stretch;justify-content: center;background-color: white;position: relative;}#sk-container-id-5 div.sk-item::before, #sk-container-id-5 div.sk-parallel-item::before {content: \"\";position: absolute;border-left: 1px solid gray;box-sizing: border-box;top: 0;bottom: 0;left: 50%;z-index: -1;}#sk-container-id-5 div.sk-parallel-item {display: flex;flex-direction: column;z-index: 1;position: relative;background-color: white;}#sk-container-id-5 div.sk-parallel-item:first-child::after {align-self: flex-end;width: 50%;}#sk-container-id-5 div.sk-parallel-item:last-child::after {align-self: flex-start;width: 50%;}#sk-container-id-5 div.sk-parallel-item:only-child::after {width: 0;}#sk-container-id-5 div.sk-dashed-wrapped {border: 1px dashed gray;margin: 0 0.4em 0.5em 0.4em;box-sizing: border-box;padding-bottom: 0.4em;background-color: white;}#sk-container-id-5 div.sk-label label {font-family: monospace;font-weight: bold;display: inline-block;line-height: 1.2em;}#sk-container-id-5 div.sk-label-container {text-align: center;}#sk-container-id-5 div.sk-container {/* jupyter's `normalize.less` sets `[hidden] { display: none; }` but bootstrap.min.css set `[hidden] { display: none !important; }` so we also need the `!important` here to be able to override the default hidden behavior on the sphinx rendered scikit-learn.org. See: https://github.com/scikit-learn/scikit-learn/issues/21755 */display: inline-block !important;position: relative;}#sk-container-id-5 div.sk-text-repr-fallback {display: none;}</style><div id=\"sk-container-id-5\" class=\"sk-top-container\"><div class=\"sk-text-repr-fallback\"><pre>KNeighborsClassifier()</pre><b>In a Jupyter environment, please rerun this cell to show the HTML representation or trust the notebook. <br />On GitHub, the HTML representation is unable to render, please try loading this page with nbviewer.org.</b></div><div class=\"sk-container\" hidden><div class=\"sk-item\"><div class=\"sk-estimator sk-toggleable\"><input class=\"sk-toggleable__control sk-hidden--visually\" id=\"sk-estimator-id-5\" type=\"checkbox\" checked><label for=\"sk-estimator-id-5\" class=\"sk-toggleable__label sk-toggleable__label-arrow\">KNeighborsClassifier</label><div class=\"sk-toggleable__content\"><pre>KNeighborsClassifier()</pre></div></div></div></div></div>"
      ],
      "text/plain": [
       "KNeighborsClassifier()"
      ]
     },
     "execution_count": 48,
     "metadata": {},
     "output_type": "execute_result"
    }
   ],
   "source": [
    "knn =KNeighborsClassifier()\n",
    "\n",
    "knn.fit(X_train_trf,y_train)\n"
   ]
  },
  {
   "cell_type": "code",
   "execution_count": 49,
   "metadata": {},
   "outputs": [],
   "source": [
    "y_pred = knn.predict(X_test_trf)"
   ]
  },
  {
   "cell_type": "code",
   "execution_count": 50,
   "metadata": {},
   "outputs": [
    {
     "data": {
      "text/plain": [
       "0.9535714285714286"
      ]
     },
     "execution_count": 50,
     "metadata": {},
     "output_type": "execute_result"
    }
   ],
   "source": [
    "accuracy_score(y_pred,y_test)"
   ]
  },
  {
   "cell_type": "code",
   "execution_count": 51,
   "metadata": {},
   "outputs": [
    {
     "data": {
      "text/plain": [
       "array([40.67111198, 29.17023401, 26.74459621, 20.85344791, 18.14891878,\n",
       "       15.85298249, 13.87108099, 12.48058962, 11.0279422 , 10.09582496,\n",
       "        9.63317784,  8.62785716,  8.06302891,  7.89511345,  7.44167514,\n",
       "        7.17032231,  6.73265535,  6.62743019,  6.41497738,  6.25806399,\n",
       "        5.90492479,  5.76518624,  5.52080301,  5.31996203,  5.18303105,\n",
       "        4.93430873,  4.90644429,  4.71793464,  4.49806358,  4.43121889,\n",
       "        4.32573317,  4.23470558,  4.10284551,  4.06703505,  4.02318056,\n",
       "        3.84051776,  3.8185559 ,  3.71247688,  3.60772795,  3.4713681 ,\n",
       "        3.4272774 ,  3.38620494,  3.28975824,  3.22606463,  3.21567787,\n",
       "        3.1556116 ,  3.12374223,  3.10135116,  3.05637042,  3.03429253,\n",
       "        2.95711359,  2.93130008,  2.8626558 ,  2.82186001,  2.79656419,\n",
       "        2.76837068,  2.71014325,  2.68150931,  2.64066915,  2.61949359,\n",
       "        2.55275592,  2.52590891,  2.47779494,  2.43471388,  2.41016047,\n",
       "        2.36282699,  2.33963817,  2.29634878,  2.2892791 ,  2.24067246,\n",
       "        2.21171824,  2.17428341,  2.1550173 ,  2.13123659,  2.11771134,\n",
       "        2.09780428,  2.05444059,  2.03817275,  2.0284371 ,  2.00148335,\n",
       "        1.99351042,  1.97701584,  1.94761249,  1.93388968,  1.92308896,\n",
       "        1.90713717,  1.86707392,  1.85126386,  1.8444512 ,  1.82885832,\n",
       "        1.80915822,  1.79471544,  1.75912431,  1.74819697,  1.71706785,\n",
       "        1.67785957,  1.65848591,  1.64491025,  1.63843416,  1.58598087])"
      ]
     },
     "execution_count": 51,
     "metadata": {},
     "output_type": "execute_result"
    }
   ],
   "source": [
    "pca.explained_variance_ # eigen_value"
   ]
  },
  {
   "cell_type": "code",
   "execution_count": 53,
   "metadata": {},
   "outputs": [
    {
     "data": {
      "text/plain": [
       "(100, 784)"
      ]
     },
     "execution_count": 53,
     "metadata": {},
     "output_type": "execute_result"
    }
   ],
   "source": [
    "pca.components_.shape  #eigen vector"
   ]
  },
  {
   "cell_type": "markdown",
   "metadata": {},
   "source": [
    "for i in range(1,785):   ## for i cols\n",
    "    pca = PCA(n_components=i)\n",
    "    X_train_trf= pca.fit_transform(X_train)\n",
    "    X_test_trf = pca.transform(X_test)\n",
    "\n",
    "    knn = KNeighborsClassifier()\n",
    "\n",
    "    knn.fit(X_train_trf,y_train)\n",
    "\n",
    "    y_pred = knn.predict(X_test_trf)\n",
    "\n",
    "\n",
    "    print(accuracy_score(y_test,y_pred))"
   ]
  },
  {
   "cell_type": "code",
   "execution_count": 54,
   "metadata": {},
   "outputs": [
    {
     "data": {
      "text/plain": [
       "array([0.05785192, 0.0414927 , 0.03804239, 0.02966263, 0.02581562,\n",
       "       0.0225498 , 0.01973068, 0.0177528 , 0.01568651, 0.01436063,\n",
       "       0.01370255, 0.01227255, 0.01146912, 0.01123027, 0.01058528,\n",
       "       0.0101993 , 0.00957675, 0.00942707, 0.00912487, 0.00890168,\n",
       "       0.00839936, 0.00820059, 0.00785297, 0.00756729, 0.00737251,\n",
       "       0.00701872, 0.00697909, 0.00671094, 0.00639819, 0.00630311,\n",
       "       0.00615306, 0.00602358, 0.00583602, 0.00578508, 0.0057227 ,\n",
       "       0.00546288, 0.00543164, 0.00528075, 0.00513175, 0.00493779,\n",
       "       0.00487507, 0.00481665, 0.00467946, 0.00458886, 0.00457409,\n",
       "       0.00448865, 0.00444331, 0.00441146, 0.00434748, 0.00431608,\n",
       "       0.0042063 , 0.00416958, 0.00407194, 0.00401391, 0.00397792,\n",
       "       0.00393782, 0.003855  , 0.00381427, 0.00375617, 0.00372605,\n",
       "       0.00363112, 0.00359294, 0.0035245 , 0.00346322, 0.00342829,\n",
       "       0.00336096, 0.00332798, 0.0032664 , 0.00325635, 0.00318721,\n",
       "       0.00314602, 0.00309277, 0.00306537, 0.00303154, 0.0030123 ,\n",
       "       0.00298399, 0.0029223 , 0.00289916, 0.00288532, 0.00284698,\n",
       "       0.00283563, 0.00281217, 0.00277035, 0.00275083, 0.00273546,\n",
       "       0.00271277, 0.00265579, 0.0026333 , 0.00262361, 0.00260143,\n",
       "       0.00257341, 0.00255286, 0.00250224, 0.00248669, 0.00244241,\n",
       "       0.00238664, 0.00235908, 0.00233977, 0.00233056, 0.00225595])"
      ]
     },
     "execution_count": 54,
     "metadata": {},
     "output_type": "execute_result"
    }
   ],
   "source": [
    "pca.explained_variance_ratio_"
   ]
  },
  {
   "cell_type": "code",
   "execution_count": 59,
   "metadata": {},
   "outputs": [],
   "source": [
    "pca = PCA(n_components=None)"
   ]
  },
  {
   "cell_type": "code",
   "execution_count": 60,
   "metadata": {},
   "outputs": [],
   "source": [
    "X_train_trf = pca.fit_transform(X_train)\n",
    "X_test_trf = pca.transform(X_test)"
   ]
  },
  {
   "cell_type": "code",
   "execution_count": 61,
   "metadata": {},
   "outputs": [
    {
     "data": {
      "text/plain": [
       "(784,)"
      ]
     },
     "execution_count": 61,
     "metadata": {},
     "output_type": "execute_result"
    }
   ],
   "source": [
    "pca.explained_variance_.shape"
   ]
  },
  {
   "cell_type": "code",
   "execution_count": 63,
   "metadata": {},
   "outputs": [
    {
     "data": {
      "text/plain": [
       "(784, 784)"
      ]
     },
     "execution_count": 63,
     "metadata": {},
     "output_type": "execute_result"
    }
   ],
   "source": [
    "pca.components_.shape"
   ]
  },
  {
   "cell_type": "code",
   "execution_count": 66,
   "metadata": {},
   "outputs": [
    {
     "data": {
      "text/plain": [
       "array([0.05785192, 0.09934462, 0.13738701, 0.16704964, 0.19286525,\n",
       "       0.21541506, 0.23514574, 0.25289854, 0.26858504, 0.28294568,\n",
       "       0.29664822, 0.30892077, 0.32038989, 0.33162017, 0.34220546,\n",
       "       0.35240477, 0.36198153, 0.37140862, 0.38053351, 0.38943521,\n",
       "       0.39783462, 0.40603525, 0.41388828, 0.42145568, 0.42882829,\n",
       "       0.43584714, 0.44282633, 0.44953738, 0.45593583, 0.4622392 ,\n",
       "       0.46839271, 0.4744166 , 0.48025334, 0.48603881, 0.49176214,\n",
       "       0.49722614, 0.50265822, 0.50793994, 0.51307376, 0.51801392,\n",
       "       0.52289063, 0.52771041, 0.53239246, 0.53698588, 0.54156249,\n",
       "       0.54605468, 0.5505015 , 0.55491691, 0.55926803, 0.56358836,\n",
       "       0.56780645, 0.57198888, 0.57606882, 0.58008887, 0.58407223,\n",
       "       0.58801822, 0.59188694, 0.59571889, 0.59948441, 0.60322635,\n",
       "       0.60687487, 0.6104829 , 0.61402176, 0.61750117, 0.62094441,\n",
       "       0.62432378, 0.62767368, 0.63099377, 0.63426257, 0.63746765,\n",
       "       0.64065542, 0.64376931, 0.64686564, 0.64992395, 0.65296104,\n",
       "       0.6559748 , 0.65895992, 0.66192105, 0.66483654, 0.66772536,\n",
       "       0.67060106, 0.6734651 , 0.67629295, 0.67910917, 0.68191711,\n",
       "       0.68468646, 0.68743018, 0.69013786, 0.69282727, 0.69548652,\n",
       "       0.6981275 , 0.70075516, 0.70335672, 0.7059274 , 0.70848658,\n",
       "       0.71103639, 0.71354984, 0.71605747, 0.71852606, 0.72096777,\n",
       "       0.72336938, 0.72575703, 0.72811046, 0.73043803, 0.73274819,\n",
       "       0.73504902, 0.73730548, 0.73955195, 0.74179168, 0.7440142 ,\n",
       "       0.74620053, 0.7483705 , 0.75051238, 0.7526383 , 0.75471786,\n",
       "       0.75677534, 0.758826  , 0.76083529, 0.76283446, 0.76482579,\n",
       "       0.76678392, 0.76873756, 0.77066405, 0.77258   , 0.77447592,\n",
       "       0.77635207, 0.77822334, 0.78007113, 0.78191268, 0.78373974,\n",
       "       0.78553564, 0.78731499, 0.78907371, 0.79080624, 0.79253247,\n",
       "       0.79425224, 0.79594416, 0.79762874, 0.79928778, 0.80093672,\n",
       "       0.80256446, 0.80416702, 0.80576592, 0.80735478, 0.80893549,\n",
       "       0.81050042, 0.81203815, 0.81356986, 0.81508446, 0.81658796,\n",
       "       0.81807414, 0.819548  , 0.82101567, 0.82247554, 0.82393208,\n",
       "       0.82538281, 0.8268107 , 0.82823494, 0.82965372, 0.83107178,\n",
       "       0.83248637, 0.83389408, 0.83528722, 0.83667705, 0.83806218,\n",
       "       0.83942504, 0.84078165, 0.84212383, 0.84346439, 0.84479466,\n",
       "       0.84611832, 0.84742054, 0.84871121, 0.84999906, 0.85127623,\n",
       "       0.85253753, 0.85378389, 0.85502004, 0.85624547, 0.85745736,\n",
       "       0.85866188, 0.85984637, 0.86101778, 0.86217663, 0.86332437,\n",
       "       0.86445325, 0.86558088, 0.8666952 , 0.86779646, 0.86888392,\n",
       "       0.86996579, 0.87104442, 0.87211364, 0.87317315, 0.87423006,\n",
       "       0.87527947, 0.87631514, 0.87734044, 0.87835265, 0.87936295,\n",
       "       0.88035936, 0.88134553, 0.88232488, 0.8832977 , 0.88427021,\n",
       "       0.88523831, 0.88619619, 0.88714161, 0.88807599, 0.88898991,\n",
       "       0.88989857, 0.89080345, 0.8916966 , 0.89258607, 0.89346635,\n",
       "       0.89433434, 0.89518395, 0.89603076, 0.89686706, 0.89768939,\n",
       "       0.89850803, 0.89932265, 0.90013248, 0.90093596, 0.90173482,\n",
       "       0.90251607, 0.90329546, 0.90406669, 0.90482606, 0.90557771,\n",
       "       0.90632501, 0.90706619, 0.90780234, 0.90853143, 0.90925438,\n",
       "       0.90996846, 0.91067525, 0.91137687, 0.9120734 , 0.91276691,\n",
       "       0.9134538 , 0.91412926, 0.91480048, 0.9154622 , 0.91612113,\n",
       "       0.91677252, 0.9174119 , 0.91804297, 0.91866944, 0.91929542,\n",
       "       0.91991348, 0.92052815, 0.9211373 , 0.92173916, 0.92233446,\n",
       "       0.92292101, 0.92350484, 0.92408706, 0.92466241, 0.92523367,\n",
       "       0.92579612, 0.926357  , 0.92691164, 0.92746163, 0.92800811,\n",
       "       0.92854974, 0.92908623, 0.92962044, 0.93015238, 0.93068315,\n",
       "       0.93120494, 0.93172158, 0.93223752, 0.93274696, 0.93325128,\n",
       "       0.93375434, 0.93425382, 0.93475251, 0.93524534, 0.93572834,\n",
       "       0.93620936, 0.93668669, 0.93716108, 0.93763137, 0.93809362,\n",
       "       0.93855416, 0.93901132, 0.93946516, 0.93991563, 0.94035889,\n",
       "       0.94080031, 0.94123623, 0.94166634, 0.94209054, 0.94251334,\n",
       "       0.9429314 , 0.94334561, 0.94375684, 0.94416693, 0.94457215,\n",
       "       0.94497536, 0.94537442, 0.94577212, 0.94616716, 0.94656128,\n",
       "       0.94694734, 0.94733105, 0.94771196, 0.94809051, 0.94846724,\n",
       "       0.94883789, 0.94920803, 0.94957156, 0.94992961, 0.95028537,\n",
       "       0.9506398 , 0.95099343, 0.9513436 , 0.95168786, 0.95202923,\n",
       "       0.9523691 , 0.95270547, 0.95303995, 0.95337297, 0.95370415,\n",
       "       0.95403451, 0.95436355, 0.95468948, 0.95500992, 0.95532964,\n",
       "       0.95564747, 0.95596177, 0.9562738 , 0.9565845 , 0.95689448,\n",
       "       0.95720249, 0.95750637, 0.95780805, 0.95810729, 0.95840523,\n",
       "       0.95870234, 0.9589963 , 0.95928521, 0.9595721 , 0.95985691,\n",
       "       0.9601397 , 0.9604215 , 0.96070051, 0.96097721, 0.96125114,\n",
       "       0.9615244 , 0.96179631, 0.96206536, 0.9623333 , 0.96259692,\n",
       "       0.96285944, 0.9631192 , 0.96337626, 0.96363152, 0.9638845 ,\n",
       "       0.96413674, 0.96438723, 0.96463661, 0.96488486, 0.96513187,\n",
       "       0.96537698, 0.96562037, 0.96586205, 0.96610289, 0.96634084,\n",
       "       0.96657869, 0.96681272, 0.96704657, 0.96727896, 0.96750876,\n",
       "       0.96773538, 0.96796067, 0.96818505, 0.968409  , 0.96863013,\n",
       "       0.96885103, 0.96907065, 0.96928885, 0.96950343, 0.96971703,\n",
       "       0.96992842, 0.97013804, 0.9703469 , 0.97055541, 0.97076129,\n",
       "       0.97096617, 0.9711703 , 0.97137304, 0.97157367, 0.97177272,\n",
       "       0.97196898, 0.97216465, 0.97235955, 0.97255284, 0.97274564,\n",
       "       0.97293686, 0.97312619, 0.97331534, 0.97350238, 0.97368816,\n",
       "       0.97387195, 0.9740554 , 0.9742372 , 0.97441869, 0.9745998 ,\n",
       "       0.97477959, 0.97495709, 0.97513385, 0.9753098 , 0.97548507,\n",
       "       0.97565906, 0.97583276, 0.97600475, 0.97617632, 0.97634726,\n",
       "       0.97651789, 0.97668656, 0.97685386, 0.9770202 , 0.97718552,\n",
       "       0.97735024, 0.97751419, 0.97767708, 0.97783857, 0.97799968,\n",
       "       0.97816011, 0.97831997, 0.97847803, 0.97863471, 0.97879125,\n",
       "       0.97894717, 0.97910129, 0.97925534, 0.9794075 , 0.97955873,\n",
       "       0.97970896, 0.97985833, 0.98000708, 0.9801544 , 0.98030149,\n",
       "       0.98044778, 0.98059235, 0.98073638, 0.98088019, 0.98102317,\n",
       "       0.98116567, 0.98130745, 0.98144769, 0.98158734, 0.98172653,\n",
       "       0.98186487, 0.9820027 , 0.98213961, 0.98227604, 0.98241149,\n",
       "       0.98254653, 0.98268118, 0.98281498, 0.98294806, 0.98307997,\n",
       "       0.98321127, 0.98334209, 0.98347147, 0.98360011, 0.98372841,\n",
       "       0.98385617, 0.983983  , 0.98410924, 0.98423434, 0.98435884,\n",
       "       0.98448278, 0.98460617, 0.98472912, 0.984852  , 0.98497324,\n",
       "       0.98509422, 0.98521456, 0.98533478, 0.98545394, 0.9855726 ,\n",
       "       0.98569101, 0.98580854, 0.98592469, 0.9860402 , 0.98615511,\n",
       "       0.98626975, 0.98638343, 0.9864965 , 0.98660857, 0.98672004,\n",
       "       0.98683101, 0.98694155, 0.98705146, 0.9871611 , 0.98727017,\n",
       "       0.98737845, 0.98748622, 0.98759382, 0.98770049, 0.98780695,\n",
       "       0.98791282, 0.98801809, 0.98812308, 0.98822752, 0.98833112,\n",
       "       0.98843461, 0.98853712, 0.98863913, 0.98874026, 0.98884103,\n",
       "       0.98894147, 0.98904132, 0.98914006, 0.98923872, 0.98933657,\n",
       "       0.98943426, 0.9895316 , 0.98962858, 0.98972495, 0.98982042,\n",
       "       0.98991553, 0.99001034, 0.99010474, 0.99019869, 0.99029232,\n",
       "       0.99038547, 0.99047802, 0.99056952, 0.99066046, 0.99075123,\n",
       "       0.9908412 , 0.99093095, 0.99102027, 0.99110878, 0.99119686,\n",
       "       0.991284  , 0.99137064, 0.99145684, 0.99154301, 0.9916287 ,\n",
       "       0.99171383, 0.99179822, 0.99188227, 0.99196602, 0.99204914,\n",
       "       0.99213215, 0.99221454, 0.99229625, 0.9923773 , 0.99245801,\n",
       "       0.99253818, 0.99261801, 0.99269711, 0.99277575, 0.99285437,\n",
       "       0.99293242, 0.99301037, 0.99308714, 0.99316362, 0.99323997,\n",
       "       0.99331588, 0.99339135, 0.99346645, 0.99354112, 0.99361543,\n",
       "       0.99368914, 0.99376232, 0.9938352 , 0.99390791, 0.99398013,\n",
       "       0.99405219, 0.99412331, 0.99419377, 0.994264  , 0.99433386,\n",
       "       0.99440353, 0.99447278, 0.99454165, 0.99461022, 0.99467846,\n",
       "       0.99474631, 0.99481384, 0.99488084, 0.99494741, 0.99501349,\n",
       "       0.99507947, 0.99514485, 0.99520937, 0.99527369, 0.99533783,\n",
       "       0.99540182, 0.99546534, 0.99552812, 0.99559085, 0.99565334,\n",
       "       0.99571532, 0.99577699, 0.99583833, 0.99589931, 0.9959597 ,\n",
       "       0.99601994, 0.99608004, 0.9961398 , 0.99619902, 0.99625806,\n",
       "       0.99631668, 0.99637498, 0.99643246, 0.99648964, 0.99654658,\n",
       "       0.99660348, 0.99666008, 0.99671624, 0.99677226, 0.99682789,\n",
       "       0.99688332, 0.99693851, 0.99699341, 0.99704791, 0.99710219,\n",
       "       0.99715597, 0.99720952, 0.99726274, 0.99731563, 0.99736803,\n",
       "       0.99742014, 0.99747165, 0.99752302, 0.99757402, 0.99762466,\n",
       "       0.99767508, 0.99772515, 0.99777484, 0.99782431, 0.99787324,\n",
       "       0.99792198, 0.99797022, 0.99801832, 0.99806623, 0.99811294,\n",
       "       0.99815934, 0.99820553, 0.9982516 , 0.99829736, 0.99834261,\n",
       "       0.99838751, 0.99843215, 0.99847669, 0.99852092, 0.99856455,\n",
       "       0.99860796, 0.9986511 , 0.99869369, 0.99873568, 0.99877733,\n",
       "       0.9988188 , 0.99886   , 0.99890061, 0.99894074, 0.99898074,\n",
       "       0.99902045, 0.99905956, 0.99909851, 0.99913737, 0.99917557,\n",
       "       0.99921352, 0.99925108, 0.99928825, 0.99932528, 0.99936201,\n",
       "       0.99939802, 0.99943366, 0.99946908, 0.99950427, 0.99953896,\n",
       "       0.99957313, 0.99960703, 0.99964055, 0.99967369, 0.99970635,\n",
       "       0.9997389 , 0.99977105, 0.99980226, 0.9998326 , 0.99986238,\n",
       "       0.99989173, 0.99992013, 0.99994621, 0.99997163, 0.99998665,\n",
       "       0.99999752, 1.        , 1.        , 1.        , 1.        ,\n",
       "       1.        , 1.        , 1.        , 1.        , 1.        ,\n",
       "       1.        , 1.        , 1.        , 1.        , 1.        ,\n",
       "       1.        , 1.        , 1.        , 1.        , 1.        ,\n",
       "       1.        , 1.        , 1.        , 1.        , 1.        ,\n",
       "       1.        , 1.        , 1.        , 1.        , 1.        ,\n",
       "       1.        , 1.        , 1.        , 1.        , 1.        ,\n",
       "       1.        , 1.        , 1.        , 1.        , 1.        ,\n",
       "       1.        , 1.        , 1.        , 1.        , 1.        ,\n",
       "       1.        , 1.        , 1.        , 1.        , 1.        ,\n",
       "       1.        , 1.        , 1.        , 1.        , 1.        ,\n",
       "       1.        , 1.        , 1.        , 1.        , 1.        ,\n",
       "       1.        , 1.        , 1.        , 1.        , 1.        ,\n",
       "       1.        , 1.        , 1.        , 1.        , 1.        ,\n",
       "       1.        , 1.        , 1.        , 1.        , 1.        ,\n",
       "       1.        , 1.        , 1.        , 1.        , 1.        ,\n",
       "       1.        , 1.        , 1.        , 1.        , 1.        ,\n",
       "       1.        , 1.        , 1.        , 1.        ])"
      ]
     },
     "execution_count": 66,
     "metadata": {},
     "output_type": "execute_result"
    }
   ],
   "source": [
    "np.cumsum(pca.explained_variance_ratio_)"
   ]
  },
  {
   "cell_type": "code",
   "execution_count": 67,
   "metadata": {},
   "outputs": [
    {
     "data": {
      "text/plain": [
       "[<matplotlib.lines.Line2D at 0x1fa01bcd110>]"
      ]
     },
     "execution_count": 67,
     "metadata": {},
     "output_type": "execute_result"
    },
    {
     "data": {
      "image/png": "[encoded data removed]",
      "text/plain": [
       "<Figure size 640x480 with 1 Axes>"
      ]
     },
     "metadata": {},
     "output_type": "display_data"
    }
   ],
   "source": [
    "plt.plot(np.cumsum(pca.explained_variance_ratio_))"
   ]
  },
  {
   "cell_type": "code",
   "execution_count": 78,
   "metadata": {},
   "outputs": [],
   "source": [
    "pca = PCA(n_components=225)\n",
    "X_train_trf = pca.fit_transform(X_train)\n",
    "X_test_trf = pca.transform(X_test)"
   ]
  },
  {
   "cell_type": "code",
   "execution_count": 79,
   "metadata": {},
   "outputs": [
    {
     "data": {
      "text/plain": [
       "array([0.05785192, 0.09934462, 0.13738701, 0.16704964, 0.19286525,\n",
       "       0.21541506, 0.23514574, 0.25289854, 0.26858504, 0.28294568,\n",
       "       0.29664822, 0.30892077, 0.32038989, 0.33162017, 0.34220546,\n",
       "       0.35240477, 0.36198153, 0.37140862, 0.38053351, 0.38943521,\n",
       "       0.39783462, 0.40603525, 0.41388828, 0.42145568, 0.42882829,\n",
       "       0.43584714, 0.44282633, 0.44953738, 0.45593583, 0.4622392 ,\n",
       "       0.46839271, 0.4744166 , 0.48025334, 0.48603881, 0.49176214,\n",
       "       0.49722614, 0.50265822, 0.50793994, 0.51307376, 0.51801391,\n",
       "       0.52289063, 0.52771041, 0.53239246, 0.53698588, 0.54156249,\n",
       "       0.54605468, 0.5505015 , 0.55491691, 0.55926803, 0.56358836,\n",
       "       0.56780644, 0.57198888, 0.57606882, 0.58008887, 0.58407222,\n",
       "       0.58801821, 0.59188693, 0.59571888, 0.5994844 , 0.60322634,\n",
       "       0.60687486, 0.61048288, 0.61402174, 0.61750116, 0.62094439,\n",
       "       0.62432376, 0.62767366, 0.63099374, 0.63426254, 0.63746762,\n",
       "       0.64065538, 0.64376926, 0.64686559, 0.64992389, 0.65296098,\n",
       "       0.65597473, 0.65895985, 0.66192097, 0.66483645, 0.66772526,\n",
       "       0.67060095, 0.67346498, 0.67629282, 0.67910902, 0.68191694,\n",
       "       0.68468628, 0.68743   , 0.69013766, 0.69282706, 0.6954863 ,\n",
       "       0.69812725, 0.70075489, 0.70335643, 0.70592709, 0.70848624,\n",
       "       0.71103603, 0.71354945, 0.71605705, 0.71852559, 0.72096727,\n",
       "       0.72336886, 0.72575643, 0.72810966, 0.7304372 , 0.73274731,\n",
       "       0.73504801, 0.73730442, 0.73955081, 0.74179043, 0.74401289,\n",
       "       0.74619912, 0.74836902, 0.75051078, 0.75263665, 0.75471612,\n",
       "       0.75677342, 0.75882392, 0.7608331 , 0.76283215, 0.76482327,\n",
       "       0.76678118, 0.7687347 , 0.77066102, 0.77257685, 0.77447257,\n",
       "       0.77634863, 0.77821956, 0.78006711, 0.78190845, 0.78373519,\n",
       "       0.78553051, 0.78730959, 0.78906805, 0.79080035, 0.79252609,\n",
       "       0.7942453 , 0.79593675, 0.79762096, 0.79927893, 0.80092693,\n",
       "       0.80255401, 0.80415577, 0.80575398, 0.80734224, 0.80892184,\n",
       "       0.8104858 , 0.81202248, 0.81355316, 0.81506616, 0.81656912,\n",
       "       0.8180543 , 0.81952648, 0.82099255, 0.82245104, 0.82390518,\n",
       "       0.82535435, 0.82678151, 0.82820345, 0.82962086, 0.83103726,\n",
       "       0.83244962, 0.83385591, 0.83524732, 0.83663622, 0.83802015,\n",
       "       0.83938168, 0.84073638, 0.8420769 , 0.84341447, 0.84474194,\n",
       "       0.84606363, 0.84736343, 0.84865174, 0.84993783, 0.85121314,\n",
       "       0.85246835, 0.85371073, 0.85494443, 0.85616743, 0.85737708,\n",
       "       0.85857753, 0.85975361, 0.8609202 , 0.8620749 , 0.86321836,\n",
       "       0.86433964, 0.86545824, 0.86656465, 0.86765827, 0.86873605,\n",
       "       0.86981299, 0.87088103, 0.87193873, 0.87299156, 0.87403641,\n",
       "       0.87507099, 0.87609913, 0.87710294, 0.87810546, 0.87910383,\n",
       "       0.88008596, 0.88106372, 0.88203156, 0.88299396, 0.88394038,\n",
       "       0.88488543, 0.88582353, 0.88674904, 0.88766666, 0.88856409,\n",
       "       0.88944977, 0.89032135, 0.89118685, 0.89204858, 0.89290216,\n",
       "       0.89374332, 0.89457143, 0.89538613, 0.89618765, 0.89698199,\n",
       "       0.89777279, 0.89854395, 0.89930929, 0.90005653, 0.90078986])"
      ]
     },
     "execution_count": 79,
     "metadata": {},
     "output_type": "execute_result"
    }
   ],
   "source": [
    "np.cumsum(pca.explained_variance_ratio_)"
   ]
  },
  {
   "cell_type": "code",
   "execution_count": null,
   "metadata": {},
   "outputs": [],
   "source": []
  }
 ],
 "metadata": {
  "kernelspec": {
   "display_name": "Python 3",
   "language": "python",
   "name": "python3"
  },
  "language_info": {
   "codemirror_mode": {
    "name": "ipython",
    "version": 3
   },
   "file_extension": ".py",
   "mimetype": "text/x-python",
   "name": "python",
   "nbconvert_exporter": "python",
   "pygments_lexer": "ipython3",
   "version": "3.11.0"
  },
  "orig_nbformat": 4
 },
 "nbformat": 4,
 "nbformat_minor": 2
}
