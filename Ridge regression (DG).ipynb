{
 "cells": [
  {
   "cell_type": "code",
   "execution_count": 28,
   "id": "eeeaa8c0",
   "metadata": {},
   "outputs": [],
   "source": [
    "import pandas as pd\n",
    "import numpy as np\n",
    "from sklearn.datasets import load_diabetes\n",
    "from sklearn.metrics import r2_score\n",
    "from sklearn.model_selection import train_test_split\n"
   ]
  },
  {
   "cell_type": "code",
   "execution_count": 29,
   "id": "6af12005",
   "metadata": {},
   "outputs": [],
   "source": [
    "X,y =load_diabetes(return_X_y=True) "
   ]
  },
  {
   "cell_type": "code",
   "execution_count": 30,
   "id": "6701c0f5",
   "metadata": {},
   "outputs": [],
   "source": [
    "X_train,X_test,y_train,y_test = train_test_split(X,y,test_size=0.2,random_state=2)"
   ]
  },
  {
   "cell_type": "code",
   "execution_count": 31,
   "id": "ec83d00c",
   "metadata": {},
   "outputs": [],
   "source": [
    "from sklearn.linear_model import SGDRegressor\n",
    "sgd = SGDRegressor(penalty=\"l2\",max_iter=500,alpha=0.001,learning_rate=\"constant\",eta0=0.01)"
   ]
  },
  {
   "cell_type": "code",
   "execution_count": 32,
   "id": "a0803e69",
   "metadata": {},
   "outputs": [
    {
     "data": {
      "text/plain": [
       "SGDRegressor(alpha=0.001, learning_rate='constant', max_iter=500)"
      ]
     },
     "execution_count": 32,
     "metadata": {},
     "output_type": "execute_result"
    }
   ],
   "source": [
    "sgd.fit(X_train,y_train)"
   ]
  },
  {
   "cell_type": "code",
   "execution_count": 33,
   "id": "fb5c93a9",
   "metadata": {},
   "outputs": [
    {
     "name": "stdout",
     "output_type": "stream",
     "text": [
      "0.4212105351094859\n",
      "[  53.84213853  -54.18602571  311.41775371  221.75124701   21.40085389\n",
      "  -18.49803383 -157.40694811  120.85987472  285.11875001  119.34980073] [150.26498107]\n"
     ]
    }
   ],
   "source": [
    "y_pred = sgd.predict(X_test)\n",
    "\n",
    "print(r2_score(y_test,y_pred))\n",
    "\n",
    "print(sgd.coef_,sgd.intercept_)"
   ]
  },
  {
   "cell_type": "code",
   "execution_count": 34,
   "id": "b7af74a5",
   "metadata": {},
   "outputs": [
    {
     "name": "stdout",
     "output_type": "stream",
     "text": [
      "0.4408664186475123\n",
      "[  -8.76358535 -204.32112637  518.37172601  339.97538227 -787.69076925\n",
      "  475.27471492  106.78654228  114.6320592   819.73953888   52.87209704] 151.8853732210924\n"
     ]
    }
   ],
   "source": [
    "from sklearn.linear_model import Ridge\n",
    "rd = Ridge(alpha=0.001,max_iter=500,solver=\"sparse_cg\")\n",
    "rd.fit(X_train,y_train)\n",
    "y_pred = rd.predict(X_test)\n",
    "\n",
    "print(r2_score(y_test,y_pred))\n",
    "\n",
    "print(rd.coef_,rd.intercept_)\n"
   ]
  },
  {
   "cell_type": "code",
   "execution_count": 62,
   "id": "36d3772c",
   "metadata": {},
   "outputs": [],
   "source": [
    "class MERARIDGE:\n",
    "    \n",
    "    def __init__(self,learning_rate,epochs,alpha):\n",
    "        \n",
    "        self.learning_rate=learning_rate\n",
    "        self.epochs = epochs\n",
    "        self.alpha = alpha\n",
    "        self.coef_ = None\n",
    "        self.intercepts_ =None\n",
    "        \n",
    "    def fit(self,X_train,y_train):\n",
    "        self.coef_ = np.ones(X_train.shape[1])\n",
    "        self.intercepts_ = 0\n",
    "        \n",
    "        thetha = np.insert(self.coef_,0,self.intercepts_)\n",
    "        X_train = np.insert(X_train,0,1,axis=1)\n",
    "        \n",
    "        for i in range(self.epochs):\n",
    "            \n",
    "            thetha_der = np.dot(X_train.T,X_train).dot(thetha) - np.dot(X_train.T,y_train)+ self.alpha * thetha\n",
    "            thetha = thetha - self.learning_rate * thetha_der\n",
    "            \n",
    "        \n",
    "        self.coef_= thetha[1:]\n",
    "        self.intercepts_ = thetha[0]\n",
    "            \n",
    "        \n",
    "        print(self.intercepts_,self.coef_)\n",
    "        \n",
    "    def predict(self,X_test):\n",
    "        return np.dot(X_test,self.coef_)+ self.intercepts_"
   ]
  },
  {
   "cell_type": "code",
   "execution_count": 66,
   "id": "00efc859",
   "metadata": {},
   "outputs": [],
   "source": [
    "rg = MERARIDGE(learning_rate=0.005,epochs=500,alpha=0.001)"
   ]
  },
  {
   "cell_type": "code",
   "execution_count": 67,
   "id": "8e1965c7",
   "metadata": {},
   "outputs": [
    {
     "name": "stdout",
     "output_type": "stream",
     "text": [
      "152.03122720459126 [  19.50848547 -162.92886069  478.95124258  317.86795122  -34.07742795\n",
      " -108.63645257 -193.67001188  106.94834373  437.10697965  103.57511709]\n"
     ]
    }
   ],
   "source": [
    "rg.fit(X_train,y_train)"
   ]
  },
  {
   "cell_type": "code",
   "execution_count": 68,
   "id": "2f7b5907",
   "metadata": {},
   "outputs": [
    {
     "data": {
      "text/plain": [
       "array([152.38646913, 198.06559878, 128.93584836, 104.86891201,\n",
       "       263.57288963, 251.21659666, 112.15962139, 115.55458123,\n",
       "        95.7962853 , 187.5291477 , 146.50240622, 172.48797234,\n",
       "       179.70910786, 137.8158466 , 288.63524663,  87.27669685,\n",
       "       200.46806076, 148.18870027, 133.07954226, 130.00725089,\n",
       "       146.88713708, 173.52771699, 152.46725003, 174.80208234,\n",
       "       127.54563188, 222.0725268 , 199.93448682, 103.1806597 ,\n",
       "        55.19311889, 238.17742198, 243.63803288, 113.41912616,\n",
       "        68.34014025,  97.17270753, 204.092087  , 164.22552114,\n",
       "       161.72141373, 192.4721413 , 113.34666858, 238.4135089 ,\n",
       "       140.9478973 , 121.10570765, 187.67207279, 186.59623028,\n",
       "       174.7493335 , 143.43951549, 169.60774707, 297.6500626 ,\n",
       "       106.64491491, 171.44948959, 253.10356302, 141.38070622,\n",
       "       150.97155551, 125.80593606, 191.51357463,  96.28280968,\n",
       "       131.73219618,  76.822313  , 158.18071519, 155.00009339,\n",
       "       163.29471016, 162.0383664 , 102.96894988, 225.58398152,\n",
       "       147.65460341, 132.49066588, 160.25329354, 192.36297571,\n",
       "       123.05064056, 128.51094339, 216.38915058, 198.23253747,\n",
       "       122.9930257 , 154.01638817, 145.71810236, 112.33720506,\n",
       "        80.90562674,  78.76060483, 169.66318578,  81.68785862,\n",
       "        97.47536061,  99.2393304 , 177.98204689, 274.16677514,\n",
       "       205.94366743, 146.1185107 , 279.81657645, 200.86876812,\n",
       "        99.82777837])"
      ]
     },
     "execution_count": 68,
     "metadata": {},
     "output_type": "execute_result"
    }
   ],
   "source": [
    "rg.predict(X_test)"
   ]
  },
  {
   "cell_type": "code",
   "execution_count": 69,
   "id": "78c019a7",
   "metadata": {},
   "outputs": [
    {
     "data": {
      "text/plain": [
       "0.4539563262156189"
      ]
     },
     "execution_count": 69,
     "metadata": {},
     "output_type": "execute_result"
    }
   ],
   "source": [
    "r2_score(y_test,rg.predict(X_test))"
   ]
  },
  {
   "cell_type": "code",
   "execution_count": null,
   "id": "82babfb3",
   "metadata": {},
   "outputs": [],
   "source": []
  }
 ],
 "metadata": {
  "kernelspec": {
   "display_name": "Python 3 (ipykernel)",
   "language": "python",
   "name": "python3"
  },
  "language_info": {
   "codemirror_mode": {
    "name": "ipython",
    "version": 3
   },
   "file_extension": ".py",
   "mimetype": "text/x-python",
   "name": "python",
   "nbconvert_exporter": "python",
   "pygments_lexer": "ipython3",
   "version": "3.9.12"
  }
 },
 "nbformat": 4,
 "nbformat_minor": 5
}
